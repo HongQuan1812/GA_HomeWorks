{
 "cells": [
  {
   "cell_type": "code",
   "execution_count": 1,
   "id": "5b3abde9",
   "metadata": {
    "_cell_guid": "b1076dfc-b9ad-4769-8c92-a6c4dae69d19",
    "_uuid": "8f2839f25d086af736a60e9eeb907d3b93b6e0e5",
    "execution": {
     "iopub.execute_input": "2024-03-19T10:19:23.362018Z",
     "iopub.status.busy": "2024-03-19T10:19:23.360458Z",
     "iopub.status.idle": "2024-03-19T10:19:24.398207Z",
     "shell.execute_reply": "2024-03-19T10:19:24.396975Z"
    },
    "papermill": {
     "duration": 1.060353,
     "end_time": "2024-03-19T10:19:24.401448",
     "exception": false,
     "start_time": "2024-03-19T10:19:23.341095",
     "status": "completed"
    },
    "tags": []
   },
   "outputs": [],
   "source": [
    "# This Python 3 environment comes with many helpful analytics libraries installed\n",
    "# It is defined by the kaggle/python Docker image: https://github.com/kaggle/docker-python\n",
    "# For example, here's several helpful packages to load\n",
    "\n",
    "import numpy as np # linear algebra\n",
    "import pandas as pd # data processing, CSV file I/O (e.g. pd.read_csv)\n",
    "\n",
    "# Input data files are available in the read-only \"../input/\" directory\n",
    "# For example, running this (by clicking run or pressing Shift+Enter) will list all files under the input directory\n",
    "\n",
    "import os\n",
    "for dirname, _, filenames in os.walk('/kaggle/input'):\n",
    "    for filename in filenames:\n",
    "        print(os.path.join(dirname, filename))\n",
    "\n",
    "# You can write up to 20GB to the current directory (/kaggle/working/) that gets preserved as output when you create a version using \"Save & Run All\" \n",
    "# You can also write temporary files to /kaggle/temp/, but they won't be saved outside of the current session"
   ]
  },
  {
   "cell_type": "code",
   "execution_count": null,
   "id": "62620972",
   "metadata": {
    "papermill": {
     "duration": 0.016021,
     "end_time": "2024-03-19T10:19:24.434234",
     "exception": false,
     "start_time": "2024-03-19T10:19:24.418213",
     "status": "completed"
    },
    "tags": []
   },
   "outputs": [],
   "source": []
  },
  {
   "cell_type": "code",
   "execution_count": 2,
   "id": "f08edb2d",
   "metadata": {
    "execution": {
     "iopub.execute_input": "2024-03-19T10:19:24.471889Z",
     "iopub.status.busy": "2024-03-19T10:19:24.471373Z",
     "iopub.status.idle": "2024-03-19T10:19:24.485383Z",
     "shell.execute_reply": "2024-03-19T10:19:24.483898Z"
    },
    "papermill": {
     "duration": 0.037038,
     "end_time": "2024-03-19T10:19:24.488627",
     "exception": false,
     "start_time": "2024-03-19T10:19:24.451589",
     "status": "completed"
    },
    "tags": []
   },
   "outputs": [],
   "source": [
    "import warnings\n",
    "warnings.filterwarnings('ignore')\n",
    "%matplotlib inline\n",
    "import matplotlib.pyplot as plt\n",
    "import numpy as np\n",
    "from tqdm import tqdm"
   ]
  },
  {
   "cell_type": "code",
   "execution_count": 3,
   "id": "a503dc10",
   "metadata": {
    "execution": {
     "iopub.execute_input": "2024-03-19T10:19:24.526048Z",
     "iopub.status.busy": "2024-03-19T10:19:24.525179Z",
     "iopub.status.idle": "2024-03-19T10:19:24.537312Z",
     "shell.execute_reply": "2024-03-19T10:19:24.536255Z"
    },
    "papermill": {
     "duration": 0.03472,
     "end_time": "2024-03-19T10:19:24.540179",
     "exception": false,
     "start_time": "2024-03-19T10:19:24.505459",
     "status": "completed"
    },
    "tags": []
   },
   "outputs": [
    {
     "name": "stdout",
     "output_type": "stream",
     "text": [
      "[[0 0 0 0]\n",
      " [1 0 1 1]\n",
      " [1 0 1 1]\n",
      " [0 1 0 1]\n",
      " [0 1 0 1]\n",
      " [1 1 0 0]\n",
      " [0 1 1 1]\n",
      " [0 1 1 1]]\n"
     ]
    }
   ],
   "source": [
    "def initialize_population( num_individuals, num_variables ):\n",
    "    \"\"\"\n",
    "    Khởi tạo quần thể gồm num_individuals cá thể. Mỗi cá thể có num_parameters biến.\n",
    "\n",
    "    Arguments:\n",
    "    num_individuals -- Số lượng cá thể\n",
    "    num_variables -- Số lượng biến\n",
    "\n",
    "    Returns:\n",
    "    pop -- Ma trận (num_individuals, num_variables ) chứa quần thể mới được khởi tạo ngẫu nhiên.\n",
    "    \"\"\"\n",
    "\n",
    "    pop = np.random.randint(2, size=(num_individuals, num_variables))\n",
    "\n",
    "    return pop\n",
    "\n",
    "# np.random.seed(42)\n",
    "pop = initialize_population(8,4)\n",
    "print(pop)"
   ]
  },
  {
   "cell_type": "code",
   "execution_count": 4,
   "id": "1925d5e9",
   "metadata": {
    "execution": {
     "iopub.execute_input": "2024-03-19T10:19:24.575312Z",
     "iopub.status.busy": "2024-03-19T10:19:24.574837Z",
     "iopub.status.idle": "2024-03-19T10:19:24.584712Z",
     "shell.execute_reply": "2024-03-19T10:19:24.583505Z"
    },
    "papermill": {
     "duration": 0.03071,
     "end_time": "2024-03-19T10:19:24.587417",
     "exception": false,
     "start_time": "2024-03-19T10:19:24.556707",
     "status": "completed"
    },
    "tags": []
   },
   "outputs": [
    {
     "data": {
      "text/plain": [
       "2"
      ]
     },
     "execution_count": 4,
     "metadata": {},
     "output_type": "execute_result"
    }
   ],
   "source": [
    "popA = np.array([[0,0,0,0],\n",
    "                [0,0,0,1]])\n",
    "np.unique(popA, axis = 0).shape[0]"
   ]
  },
  {
   "cell_type": "code",
   "execution_count": 5,
   "id": "dadb434f",
   "metadata": {
    "execution": {
     "iopub.execute_input": "2024-03-19T10:19:24.622852Z",
     "iopub.status.busy": "2024-03-19T10:19:24.621575Z",
     "iopub.status.idle": "2024-03-19T10:19:24.631220Z",
     "shell.execute_reply": "2024-03-19T10:19:24.630024Z"
    },
    "papermill": {
     "duration": 0.029891,
     "end_time": "2024-03-19T10:19:24.633516",
     "exception": false,
     "start_time": "2024-03-19T10:19:24.603625",
     "status": "completed"
    },
    "tags": []
   },
   "outputs": [
    {
     "data": {
      "text/plain": [
       "2"
      ]
     },
     "execution_count": 5,
     "metadata": {},
     "output_type": "execute_result"
    }
   ],
   "source": [
    "def onemax( ind ):\n",
    "    \"\"\"\n",
    "    Hàm đánh giá OneMax: Đếm số bit 1 trong chuỗi nhị phân (cá thể ind).\n",
    "\n",
    "    Arguments:\n",
    "    ind -- Cá thể cần được đánh giá.\n",
    "\n",
    "    Returns:\n",
    "    value -- Giá trị của cá thể ind.\n",
    "    \"\"\"\n",
    "\n",
    "    value = np.sum(ind)\n",
    "\n",
    "    return value\n",
    "\n",
    "onemax(pop[5,:])"
   ]
  },
  {
   "cell_type": "code",
   "execution_count": 6,
   "id": "b552be6c",
   "metadata": {
    "execution": {
     "iopub.execute_input": "2024-03-19T10:19:24.669260Z",
     "iopub.status.busy": "2024-03-19T10:19:24.668530Z",
     "iopub.status.idle": "2024-03-19T10:19:24.681405Z",
     "shell.execute_reply": "2024-03-19T10:19:24.680135Z"
    },
    "papermill": {
     "duration": 0.033971,
     "end_time": "2024-03-19T10:19:24.684439",
     "exception": false,
     "start_time": "2024-03-19T10:19:24.650468",
     "status": "completed"
    },
    "tags": []
   },
   "outputs": [
    {
     "data": {
      "text/plain": [
       "(3, 0, 2, 5, 0)"
      ]
     },
     "execution_count": 6,
     "metadata": {},
     "output_type": "execute_result"
    }
   ],
   "source": [
    "def leadingone (ind):\n",
    "    try:\n",
    "        return list(ind).index(0)\n",
    "    except ValueError:\n",
    "        return len(ind)\n",
    "\n",
    "A = np.array([1,1,1,0,1])\n",
    "B = np.array([0,1,1,1,1])\n",
    "C = np.array([1,1,0,1,1])\n",
    "D = np.array([1,1,1,1,1])\n",
    "E = np.array([0,0,1,1,1])\n",
    "\n",
    "leadingone(A), leadingone(B), leadingone(C), leadingone(D), leadingone(E)"
   ]
  },
  {
   "cell_type": "code",
   "execution_count": 7,
   "id": "0cea7946",
   "metadata": {
    "execution": {
     "iopub.execute_input": "2024-03-19T10:19:24.719561Z",
     "iopub.status.busy": "2024-03-19T10:19:24.719199Z",
     "iopub.status.idle": "2024-03-19T10:19:24.732452Z",
     "shell.execute_reply": "2024-03-19T10:19:24.731046Z"
    },
    "papermill": {
     "duration": 0.034299,
     "end_time": "2024-03-19T10:19:24.735511",
     "exception": false,
     "start_time": "2024-03-19T10:19:24.701212",
     "status": "completed"
    },
    "tags": []
   },
   "outputs": [
    {
     "name": "stdout",
     "output_type": "stream",
     "text": [
      "3\n",
      "2\n",
      "1\n",
      "5\n",
      "----\n",
      "5\n",
      "6\n",
      "8\n",
      "3\n"
     ]
    }
   ],
   "source": [
    "def trap_5 (ind):\n",
    "    u = np.sum(ind)\n",
    "    if u == 5:\n",
    "        return 5\n",
    "    else:\n",
    "        return 5 - u - 1\n",
    "\n",
    "A = np.array([1,0,0,0,0])\n",
    "B = np.array([0,1,1,0,0])\n",
    "C = np.array([1,0,0,1,1])\n",
    "D = np.array([1,1,1,1,1])\n",
    "\n",
    "print (trap_5(A))\n",
    "print (trap_5(B))\n",
    "print (trap_5(C))\n",
    "print (trap_5(D))\n",
    "\n",
    "print(\"----\")\n",
    "\n",
    "\n",
    "def concatenate_trap_5 (ind):\n",
    "    return np.sum([trap_5(ind[i:i+5]) for i in range(0, len(ind), 5)])\n",
    "\n",
    "print(concatenate_trap_5(np.concatenate((A,B)))) \n",
    "print(concatenate_trap_5(np.concatenate((C,D))))\n",
    "print(concatenate_trap_5(np.concatenate((A,D))))\n",
    "print(concatenate_trap_5(np.concatenate((C,B))))"
   ]
  },
  {
   "cell_type": "code",
   "execution_count": 8,
   "id": "ec6435fb",
   "metadata": {
    "execution": {
     "iopub.execute_input": "2024-03-19T10:19:24.772134Z",
     "iopub.status.busy": "2024-03-19T10:19:24.770640Z",
     "iopub.status.idle": "2024-03-19T10:19:24.789400Z",
     "shell.execute_reply": "2024-03-19T10:19:24.788549Z"
    },
    "papermill": {
     "duration": 0.039428,
     "end_time": "2024-03-19T10:19:24.791766",
     "exception": false,
     "start_time": "2024-03-19T10:19:24.752338",
     "status": "completed"
    },
    "tags": []
   },
   "outputs": [
    {
     "name": "stdout",
     "output_type": "stream",
     "text": [
      "[[1 0 1 1]\n",
      " [0 1 0 1]\n",
      " [1 1 0 0]\n",
      " [0 1 0 1]\n",
      " [1 0 1 1]\n",
      " [0 1 1 1]\n",
      " [0 1 1 1]\n",
      " [0 0 0 0]]\n",
      "[0.12357287 0.29033574 0.63763533 0.37482243]\n",
      "[0.91972387 0.70608772 0.68139498 0.43978344]\n",
      "[0.86242499 0.71110584 0.09504657 0.08352417]\n",
      "[0.95477815 0.98445526 0.17780077 0.12706497]\n"
     ]
    },
    {
     "data": {
      "text/plain": [
       "array([[0, 1, 1, 1],\n",
       "       [1, 0, 0, 1],\n",
       "       [1, 1, 0, 1],\n",
       "       [0, 1, 0, 0],\n",
       "       [1, 0, 1, 1],\n",
       "       [0, 1, 1, 1],\n",
       "       [0, 1, 0, 0],\n",
       "       [0, 0, 1, 1]])"
      ]
     },
     "execution_count": 8,
     "metadata": {},
     "output_type": "execute_result"
    }
   ],
   "source": [
    "def uniform_crossover( pop , verbose = False):\n",
    "    \"\"\"\n",
    "    Hàm biến đổi tạo ra các cá thể con.\n",
    "\n",
    "    Arguments:\n",
    "    pop -- Quàn thể hiện tại.\n",
    "\n",
    "    Returns:\n",
    "    offspring -- Quần thể chứa các cá thể con được sinh ra.\n",
    "    \"\"\"\n",
    "\n",
    "    num_individuals = len(pop)\n",
    "    num_parameters = len(pop[0])\n",
    "    indices = np.arange(num_individuals)\n",
    "    # Đảo ngẫu nhiên thứ tự các cá thể trong quần thể\n",
    "    np.random.shuffle(indices)\n",
    "    offspring = []\n",
    "    if verbose:\n",
    "        print(pop[indices])\n",
    "\n",
    "    for i in range(0, num_individuals, 2):\n",
    "        idx1 = indices[i]\n",
    "        idx2 = indices[i+1]\n",
    "        offspring1 = pop[idx1]\n",
    "        offspring2 = pop[idx2]\n",
    "\n",
    "        # Cài đặt phép lai đồng nhất uniform crossover.\n",
    "        r_mask = np.random.uniform(0,1, size = num_parameters)\n",
    "        if verbose:\n",
    "            print(r_mask)\n",
    "            \n",
    "        temp = offspring2[r_mask < 0.5].copy()\n",
    "        offspring2[r_mask < 0.5] = offspring1[r_mask < 0.5]\n",
    "        offspring1[r_mask < 0.5] = temp\n",
    "\n",
    "        offspring.append(offspring1)\n",
    "        offspring.append(offspring2)\n",
    "\n",
    "    return np.array(offspring)\n",
    "\n",
    "uniform_crossover( pop, verbose = True )"
   ]
  },
  {
   "cell_type": "code",
   "execution_count": 9,
   "id": "a6f0b6a2",
   "metadata": {
    "execution": {
     "iopub.execute_input": "2024-03-19T10:19:24.828392Z",
     "iopub.status.busy": "2024-03-19T10:19:24.827184Z",
     "iopub.status.idle": "2024-03-19T10:19:24.847126Z",
     "shell.execute_reply": "2024-03-19T10:19:24.845208Z"
    },
    "papermill": {
     "duration": 0.040931,
     "end_time": "2024-03-19T10:19:24.849569",
     "exception": false,
     "start_time": "2024-03-19T10:19:24.808638",
     "status": "completed"
    },
    "tags": []
   },
   "outputs": [
    {
     "name": "stdout",
     "output_type": "stream",
     "text": [
      "[[0 1 1 1]\n",
      " [1 0 1 1]\n",
      " [0 1 0 0]\n",
      " [1 1 0 1]\n",
      " [0 1 0 0]\n",
      " [0 1 1 1]\n",
      " [0 0 1 1]\n",
      " [1 0 0 1]]\n",
      "o1: [0 1 1 1]\n",
      "o2: [1 0 1 1]\n",
      "1\n",
      "o1: [0 0 1 1]\n",
      "o2: [1 1 1 1]\n",
      "\n",
      "o1: [0 1 0 0]\n",
      "o2: [1 1 0 1]\n",
      "2\n",
      "o1: [0 1 0 1]\n",
      "o2: [1 1 0 0]\n",
      "\n",
      "o1: [0 1 0 0]\n",
      "o2: [0 1 1 1]\n",
      "3\n",
      "o1: [0 1 0 1]\n",
      "o2: [0 1 1 0]\n",
      "\n",
      "o1: [0 0 1 1]\n",
      "o2: [1 0 0 1]\n",
      "1\n",
      "o1: [0 0 0 1]\n",
      "o2: [1 0 1 1]\n",
      "\n"
     ]
    },
    {
     "data": {
      "text/plain": [
       "array([[0, 0, 1, 1],\n",
       "       [1, 1, 1, 1],\n",
       "       [0, 1, 0, 1],\n",
       "       [1, 1, 0, 0],\n",
       "       [0, 1, 0, 1],\n",
       "       [0, 1, 1, 0],\n",
       "       [0, 0, 0, 1],\n",
       "       [1, 0, 1, 1]])"
      ]
     },
     "execution_count": 9,
     "metadata": {},
     "output_type": "execute_result"
    }
   ],
   "source": [
    "def onepoint_crossover( pop , verbose = False):\n",
    "    \"\"\"\n",
    "    Hàm biến đổi tạo ra các cá thể con.\n",
    "\n",
    "    Arguments:\n",
    "    pop -- Quàn thể hiện tại.\n",
    "\n",
    "    Returns:\n",
    "    offspring -- Quần thể chứa các cá thể con được sinh ra.\n",
    "    \"\"\"\n",
    "\n",
    "    num_individuals = len(pop)\n",
    "    num_parameters = len(pop[0])\n",
    "    indices = np.arange(num_individuals)\n",
    "    # Đảo ngẫu nhiên thứ tự các cá thể trong quần thể\n",
    "    np.random.shuffle(indices)\n",
    "    offspring = []\n",
    "    if verbose:\n",
    "        print(pop[indices])\n",
    "\n",
    "    for i in range(0, num_individuals, 2):\n",
    "        idx1 = indices[i]\n",
    "        idx2 = indices[i+1]\n",
    "        offspring1 = pop[idx1]\n",
    "        offspring2 = pop[idx2]\n",
    "\n",
    "        # Cài đặt phép lai một điểm.\n",
    "        r = np.random.randint(1,num_parameters)\n",
    "        if verbose:\n",
    "            print(f\"o1: {offspring1}\")\n",
    "            print(f\"o2: {offspring2}\")\n",
    "            print(r)\n",
    "            \n",
    "        \n",
    "        temp = offspring2[r:].copy()\n",
    "        offspring2[r:] = offspring1[r:]\n",
    "        offspring1[r:] = temp\n",
    "        \n",
    "        if verbose:\n",
    "            print(f\"o1: {offspring1}\")\n",
    "            print(f\"o2: {offspring2}\")\n",
    "            print()\n",
    "        \n",
    "        offspring.append(offspring1)\n",
    "        offspring.append(offspring2)\n",
    "\n",
    "    return np.array(offspring)\n",
    "\n",
    "onepoint_crossover( pop, verbose = True )"
   ]
  },
  {
   "cell_type": "code",
   "execution_count": 10,
   "id": "93f6a745",
   "metadata": {
    "execution": {
     "iopub.execute_input": "2024-03-19T10:19:24.885984Z",
     "iopub.status.busy": "2024-03-19T10:19:24.885550Z",
     "iopub.status.idle": "2024-03-19T10:19:24.899610Z",
     "shell.execute_reply": "2024-03-19T10:19:24.897781Z"
    },
    "papermill": {
     "duration": 0.035225,
     "end_time": "2024-03-19T10:19:24.901998",
     "exception": false,
     "start_time": "2024-03-19T10:19:24.866773",
     "status": "completed"
    },
    "tags": []
   },
   "outputs": [
    {
     "name": "stdout",
     "output_type": "stream",
     "text": [
      "pop_fitness [7 7 5 1 7 2 0 7]\n",
      "shuffled_index [4 1 2 0 3 6 7 5]\n",
      "shuffled_fitness [7 7 5 7 1 0 7 2]\n",
      "4\n",
      "7\n",
      "shuffled_index [1 2 3 6 0 5 7 4]\n",
      "shuffled_fitness [7 5 1 0 7 2 7 7]\n",
      "1\n",
      "0\n",
      "shuffled_index [7 6 3 0 2 5 4 1]\n",
      "shuffled_fitness [7 0 1 7 5 2 7 7]\n",
      "7\n",
      "4\n",
      "shuffled_index [3 0 2 4 1 7 5 6]\n",
      "shuffled_fitness [1 7 5 7 7 7 2 0]\n",
      "0\n",
      "1\n",
      "[4 7 1 0 7 4 0 1]\n"
     ]
    }
   ],
   "source": [
    "def tournament_selection (pop, pop_fitness, selection_size, tournament_size = 4, verbose = False):\n",
    "    count = 0\n",
    "    pop_fitness_index = np.arange(0,len(pop_fitness))\n",
    "    indices = []\n",
    "    while len(indices) != selection_size:\n",
    "        shuffled_index = np.random.permutation(pop_fitness_index)\n",
    "        if verbose:\n",
    "            print(\"shuffled_index\", shuffled_index)\n",
    "            print(\"shuffled_fitness\",pop_fitness[shuffled_index])\n",
    "            \n",
    "        for i in range(0,len(pop_fitness), tournament_size):\n",
    "            winner_index = np.argmax(pop_fitness[shuffled_index[i:i+tournament_size]])\n",
    "            index = shuffled_index[i:i+tournament_size][winner_index]\n",
    "            indices.append(index)\n",
    "            \n",
    "            if verbose:\n",
    "                print(index)\n",
    "            \n",
    "    \n",
    "    return np.array(indices)\n",
    "\n",
    "pop_fitness = np.random.randint(0,8,size=8)\n",
    "print(\"pop_fitness\", pop_fitness)\n",
    "indices = tournament_selection(None, pop_fitness, 8, verbose = True)\n",
    "print(indices)"
   ]
  },
  {
   "cell_type": "code",
   "execution_count": 11,
   "id": "de274645",
   "metadata": {
    "execution": {
     "iopub.execute_input": "2024-03-19T10:19:24.939813Z",
     "iopub.status.busy": "2024-03-19T10:19:24.939363Z",
     "iopub.status.idle": "2024-03-19T10:19:24.954479Z",
     "shell.execute_reply": "2024-03-19T10:19:24.953131Z"
    },
    "papermill": {
     "duration": 0.037478,
     "end_time": "2024-03-19T10:19:24.957138",
     "exception": false,
     "start_time": "2024-03-19T10:19:24.919660",
     "status": "completed"
    },
    "tags": []
   },
   "outputs": [],
   "source": [
    "def POPOP_genetic_algorithm(objective,\n",
    "                            selection,\n",
    "                            variance,\n",
    "                            num_individuals, \n",
    "                            num_parameters, \n",
    "                            max_evaluations, \n",
    "                            early_stop = False,\n",
    "                            verbose=False):\n",
    "    \n",
    "    pop = initialize_population(num_individuals, num_parameters)     # Khởi tạo quần thể\n",
    "    pop_fitness = np.array([objective(ind) for ind in pop])    # Tính fitness của từng cá thể\n",
    "    i = 0   # Thế hệ thứ 0\n",
    "    \n",
    "    num_evaluations = num_individuals  # Số lượng gọi hàm tính độ thích nghi = Số lượng cá thể\n",
    "    best_fitness = []\n",
    "    \n",
    "    if verbose:\n",
    "        print(\"#Gen 0:\")\n",
    "        print(pop_fitness)\n",
    "    \n",
    "    selection_size = num_individuals     # Xác định size của tập chọn lọc\n",
    "\n",
    "    while num_evaluations < max_evaluations:\n",
    "        best_fitness.append([num_evaluations, np.max(pop_fitness)])\n",
    "        \n",
    "        # Biến đổi\n",
    "        offspring = variance(pop)\n",
    "        offspring_fitness = np.array([objective(ind) for ind in offspring])\n",
    "        \n",
    "        # P+O pool\n",
    "        pool = np.vstack([pop, offspring])\n",
    "        pool_fitness = np.concatenate((pop_fitness, offspring_fitness))\n",
    "        \n",
    "        # Chọn lọc\n",
    "        selected_indices = selection( pool, pool_fitness, selection_size )\n",
    "        selection_set = pool[selected_indices]\n",
    "        selection_fitness = pool_fitness[selected_indices]\n",
    "\n",
    "        num_evaluations += len(offspring) # Cập nhật lại\n",
    "        \n",
    "        # Quần thể thế hệ tiếp theo\n",
    "        pop = selection_set\n",
    "        pop_fitness = selection_fitness\n",
    "        i += 1\n",
    "        \n",
    "        if verbose:\n",
    "            print(f'#Gen {i}:')\n",
    "            print(pop_fitness)\n",
    "\n",
    "        # Kiểm tra hội tụ\n",
    "        if early_stop:\n",
    "            if np.unique(pop, axis = 0).shape[0] == 1:\n",
    "                break\n",
    "                \n",
    "        \n",
    "    best_fitness.append([num_evaluations, np.max(pop_fitness)])\n",
    "    if verbose:\n",
    "        print('#Final result:')\n",
    "        print(pop)\n",
    "        print(pop_fitness)\n",
    "\n",
    "    return (pop, pop_fitness, best_fitness)"
   ]
  },
  {
   "cell_type": "code",
   "execution_count": 12,
   "id": "e5c53e08",
   "metadata": {
    "execution": {
     "iopub.execute_input": "2024-03-19T10:19:24.994840Z",
     "iopub.status.busy": "2024-03-19T10:19:24.993902Z",
     "iopub.status.idle": "2024-03-19T10:19:25.003785Z",
     "shell.execute_reply": "2024-03-19T10:19:25.001892Z"
    },
    "papermill": {
     "duration": 0.0326,
     "end_time": "2024-03-19T10:19:25.007271",
     "exception": false,
     "start_time": "2024-03-19T10:19:24.974671",
     "status": "completed"
    },
    "tags": []
   },
   "outputs": [
    {
     "data": {
      "text/plain": [
       "10"
      ]
     },
     "execution_count": 12,
     "metadata": {},
     "output_type": "execute_result"
    }
   ],
   "source": [
    "concatenate_trap_5([1]*10)"
   ]
  },
  {
   "cell_type": "code",
   "execution_count": 13,
   "id": "b53d0928",
   "metadata": {
    "execution": {
     "iopub.execute_input": "2024-03-19T10:19:25.048384Z",
     "iopub.status.busy": "2024-03-19T10:19:25.047913Z",
     "iopub.status.idle": "2024-03-19T10:19:25.058649Z",
     "shell.execute_reply": "2024-03-19T10:19:25.057162Z"
    },
    "papermill": {
     "duration": 0.034112,
     "end_time": "2024-03-19T10:19:25.061408",
     "exception": false,
     "start_time": "2024-03-19T10:19:25.027296",
     "status": "completed"
    },
    "tags": []
   },
   "outputs": [],
   "source": [
    "def find_upperbound (objective, variance,  num_parameters, ith_bisection):\n",
    "    n_trials = 10\n",
    "    optimal_fitness = objective([1]*num_parameters)\n",
    "    n_individuals = [4,8,16,32,64,128,256,512,1024,2048,4096,8192]\n",
    "    \n",
    "    for N_upper in n_individuals:\n",
    "        number_of_evaluations = []\n",
    "        \n",
    "        for i in range (n_trials):\n",
    "            np.random.seed(21522490 + i + 10*ith_bisection)\n",
    "            pop, pop_fitness, best_fitness = POPOP_genetic_algorithm(\n",
    "                objective = objective,\n",
    "                selection = tournament_selection,\n",
    "                variance = variance,\n",
    "                num_individuals = N_upper, \n",
    "                num_parameters = num_parameters, \n",
    "                max_evaluations = 100000,\n",
    "                early_stop = True\n",
    "            )\n",
    "            number_of_evaluations.append(best_fitness[-1][0])\n",
    "            \n",
    "            \n",
    "            if best_fitness[-1][1] != optimal_fitness:\n",
    "                break\n",
    "                \n",
    "        else:\n",
    "            average_number_of_evaluations = np.average(number_of_evaluations)\n",
    "            return N_upper, average_number_of_evaluations"
   ]
  },
  {
   "cell_type": "code",
   "execution_count": 14,
   "id": "2c7d33e0",
   "metadata": {
    "execution": {
     "iopub.execute_input": "2024-03-19T10:19:25.101074Z",
     "iopub.status.busy": "2024-03-19T10:19:25.100612Z",
     "iopub.status.idle": "2024-03-19T10:19:25.506944Z",
     "shell.execute_reply": "2024-03-19T10:19:25.505783Z"
    },
    "papermill": {
     "duration": 0.429135,
     "end_time": "2024-03-19T10:19:25.509522",
     "exception": false,
     "start_time": "2024-03-19T10:19:25.080387",
     "status": "completed"
    },
    "tags": []
   },
   "outputs": [
    {
     "data": {
      "text/plain": [
       "(64, 1216.0)"
      ]
     },
     "execution_count": 14,
     "metadata": {},
     "output_type": "execute_result"
    }
   ],
   "source": [
    "find_upperbound(leadingone,uniform_crossover, 10, 0)"
   ]
  },
  {
   "cell_type": "code",
   "execution_count": 15,
   "id": "9d72ca8b",
   "metadata": {
    "execution": {
     "iopub.execute_input": "2024-03-19T10:19:25.548359Z",
     "iopub.status.busy": "2024-03-19T10:19:25.547569Z",
     "iopub.status.idle": "2024-03-19T10:19:25.558622Z",
     "shell.execute_reply": "2024-03-19T10:19:25.557638Z"
    },
    "papermill": {
     "duration": 0.033487,
     "end_time": "2024-03-19T10:19:25.561224",
     "exception": false,
     "start_time": "2024-03-19T10:19:25.527737",
     "status": "completed"
    },
    "tags": []
   },
   "outputs": [],
   "source": [
    "def find_MRPS (N_upper, objective, variance, num_parameters, ith_bisection):\n",
    "    n_trials = 10\n",
    "    N_lower = N_upper/2\n",
    "    optimal_fitness = objective([1]*num_parameters)\n",
    "    \n",
    "    average_number_of_evaluations = -1\n",
    "\n",
    "    while ( (N_upper - N_lower)/2 > 0.1 ):\n",
    "        \n",
    "        N = (N_upper + N_lower)/2\n",
    "        number_of_evaluations = []\n",
    "\n",
    "        for i in range(n_trials):\n",
    "            np.random.seed(21522490 + i + 10*ith_bisection)\n",
    "            pop, pop_fitness, best_fitness = POPOP_genetic_algorithm(\n",
    "                objective = objective,\n",
    "                selection = tournament_selection,\n",
    "                variance = variance,\n",
    "                num_individuals = int(N),\n",
    "                num_parameters = num_parameters, \n",
    "                max_evaluations = 100000,\n",
    "                early_stop = True\n",
    "            )\n",
    "            number_of_evaluations.append(best_fitness[-1][0])\n",
    "            \n",
    "            if best_fitness[-1][1] != optimal_fitness:\n",
    "                N_lower = N\n",
    "                break\n",
    "                \n",
    "        else:\n",
    "            N_upper = N\n",
    "            average_number_of_evaluations = np.average(number_of_evaluations)\n",
    "#             print(N_upper, average_number_of_evaluations)\n",
    "        \n",
    "        if (N_upper - N_lower) <= 2:\n",
    "            break\n",
    "            \n",
    "    return N_upper, average_number_of_evaluations"
   ]
  },
  {
   "cell_type": "code",
   "execution_count": 16,
   "id": "9a7cbb77",
   "metadata": {
    "execution": {
     "iopub.execute_input": "2024-03-19T10:19:25.600939Z",
     "iopub.status.busy": "2024-03-19T10:19:25.600510Z",
     "iopub.status.idle": "2024-03-19T10:19:26.203041Z",
     "shell.execute_reply": "2024-03-19T10:19:26.202006Z"
    },
    "papermill": {
     "duration": 0.625314,
     "end_time": "2024-03-19T10:19:26.205553",
     "exception": false,
     "start_time": "2024-03-19T10:19:25.580239",
     "status": "completed"
    },
    "tags": []
   },
   "outputs": [
    {
     "data": {
      "text/plain": [
       "(40.0, 600.0)"
      ]
     },
     "execution_count": 16,
     "metadata": {},
     "output_type": "execute_result"
    }
   ],
   "source": [
    "find_MRPS(64, leadingone, uniform_crossover, 10, 0)"
   ]
  },
  {
   "cell_type": "code",
   "execution_count": 17,
   "id": "f44ac965",
   "metadata": {
    "execution": {
     "iopub.execute_input": "2024-03-19T10:19:26.244461Z",
     "iopub.status.busy": "2024-03-19T10:19:26.243819Z",
     "iopub.status.idle": "2024-03-19T10:19:26.252142Z",
     "shell.execute_reply": "2024-03-19T10:19:26.250767Z"
    },
    "papermill": {
     "duration": 0.030883,
     "end_time": "2024-03-19T10:19:26.254604",
     "exception": false,
     "start_time": "2024-03-19T10:19:26.223721",
     "status": "completed"
    },
    "tags": []
   },
   "outputs": [],
   "source": [
    "def bisection(objective,variance, num_parameters, ith_bisection):\n",
    "    result_1 = find_upperbound(\n",
    "        objective = objective, \n",
    "        variance= variance,\n",
    "        num_parameters = num_parameters, \n",
    "        ith_bisection = ith_bisection\n",
    "    )\n",
    "    \n",
    "    if result_1 == None:\n",
    "        return None, None\n",
    "        \n",
    "    N_upper, avg_N_upper = result_1\n",
    "    MRPS, avg_MRPS = find_MRPS(\n",
    "        N_upper = N_upper, \n",
    "        objective = objective,\n",
    "        variance= variance,\n",
    "        num_parameters = num_parameters, \n",
    "        ith_bisection = ith_bisection\n",
    "    )\n",
    "    \n",
    "    if N_upper == MRPS:\n",
    "        return N_upper, avg_N_upper\n",
    "    else:\n",
    "        return MRPS, avg_MRPS"
   ]
  },
  {
   "cell_type": "code",
   "execution_count": 18,
   "id": "dfdd6cb3",
   "metadata": {
    "execution": {
     "iopub.execute_input": "2024-03-19T10:19:26.292457Z",
     "iopub.status.busy": "2024-03-19T10:19:26.291980Z",
     "iopub.status.idle": "2024-03-19T10:19:27.267089Z",
     "shell.execute_reply": "2024-03-19T10:19:27.265802Z"
    },
    "papermill": {
     "duration": 0.997459,
     "end_time": "2024-03-19T10:19:27.269875",
     "exception": false,
     "start_time": "2024-03-19T10:19:26.272416",
     "status": "completed"
    },
    "tags": []
   },
   "outputs": [
    {
     "name": "stdout",
     "output_type": "stream",
     "text": [
      "(40.0, 600.0)\n"
     ]
    }
   ],
   "source": [
    "print(bisection(leadingone,uniform_crossover, 10, 0))"
   ]
  },
  {
   "cell_type": "markdown",
   "id": "2cfd8dbd",
   "metadata": {
    "papermill": {
     "duration": 0.017402,
     "end_time": "2024-03-19T10:19:27.305713",
     "exception": false,
     "start_time": "2024-03-19T10:19:27.288311",
     "status": "completed"
    },
    "tags": []
   },
   "source": [
    "# Experiment_time"
   ]
  },
  {
   "cell_type": "markdown",
   "id": "3e30a26b",
   "metadata": {
    "papermill": {
     "duration": 0.01744,
     "end_time": "2024-03-19T10:19:27.340946",
     "exception": false,
     "start_time": "2024-03-19T10:19:27.323506",
     "status": "completed"
    },
    "tags": []
   },
   "source": [
    "## OneMax"
   ]
  },
  {
   "cell_type": "markdown",
   "id": "640f4e8f",
   "metadata": {
    "papermill": {
     "duration": 0.017289,
     "end_time": "2024-03-19T10:19:27.375884",
     "exception": false,
     "start_time": "2024-03-19T10:19:27.358595",
     "status": "completed"
    },
    "tags": []
   },
   "source": [
    "### Uniform Crossover"
   ]
  },
  {
   "cell_type": "code",
   "execution_count": 19,
   "id": "ed57e512",
   "metadata": {
    "collapsed": true,
    "execution": {
     "iopub.execute_input": "2024-03-19T10:19:27.486823Z",
     "iopub.status.busy": "2024-03-19T10:19:27.485959Z",
     "iopub.status.idle": "2024-03-19T10:25:33.701739Z",
     "shell.execute_reply": "2024-03-19T10:25:33.700673Z"
    },
    "jupyter": {
     "outputs_hidden": true
    },
    "papermill": {
     "duration": 366.271297,
     "end_time": "2024-03-19T10:25:33.737471",
     "exception": false,
     "start_time": "2024-03-19T10:19:27.466174",
     "status": "completed"
    },
    "tags": []
   },
   "outputs": [
    {
     "name": "stderr",
     "output_type": "stream",
     "text": [
      "Problem_size:   0%|          | 0/5 [00:00<?, ?it/s]\n",
      "bisection:   0%|          | 0/10 [00:00<?, ?it/s]\u001b[A\n",
      "bisection:  10%|█         | 1/10 [00:00<00:03,  2.57it/s]\u001b[A\n",
      "bisection:  20%|██        | 2/10 [00:00<00:02,  2.68it/s]\u001b[A\n",
      "bisection:  30%|███       | 3/10 [00:01<00:02,  2.58it/s]\u001b[A\n",
      "bisection:  40%|████      | 4/10 [00:01<00:02,  2.47it/s]\u001b[A\n",
      "bisection:  50%|█████     | 5/10 [00:01<00:01,  2.51it/s]\u001b[A\n",
      "bisection:  60%|██████    | 6/10 [00:02<00:01,  2.62it/s]\u001b[A\n",
      "bisection:  70%|███████   | 7/10 [00:02<00:01,  2.56it/s]\u001b[A\n",
      "bisection:  80%|████████  | 8/10 [00:03<00:00,  2.54it/s]\u001b[A\n",
      "bisection:  90%|█████████ | 9/10 [00:03<00:00,  2.69it/s]\u001b[A\n",
      "bisection: 100%|██████████| 10/10 [00:03<00:00,  2.61it/s]\n",
      "Problem_size:  20%|██        | 1/5 [00:03<00:15,  3.84s/it]\n",
      "bisection:   0%|          | 0/10 [00:00<?, ?it/s]\u001b[A\n",
      "bisection:  10%|█         | 1/10 [00:01<00:10,  1.21s/it]\u001b[A\n",
      "bisection:  20%|██        | 2/10 [00:02<00:09,  1.15s/it]\u001b[A\n",
      "bisection:  30%|███       | 3/10 [00:02<00:05,  1.23it/s]\u001b[A\n",
      "bisection:  40%|████      | 4/10 [00:03<00:05,  1.02it/s]\u001b[A\n",
      "bisection:  50%|█████     | 5/10 [00:05<00:05,  1.02s/it]\u001b[A\n",
      "bisection:  60%|██████    | 6/10 [00:06<00:04,  1.00s/it]\u001b[A\n",
      "bisection:  70%|███████   | 7/10 [00:06<00:02,  1.21it/s]\u001b[A\n",
      "bisection:  80%|████████  | 8/10 [00:07<00:01,  1.08it/s]\u001b[A\n",
      "bisection:  90%|█████████ | 9/10 [00:08<00:00,  1.01it/s]\u001b[A\n",
      "bisection: 100%|██████████| 10/10 [00:09<00:00,  1.08it/s]\n",
      "Problem_size:  40%|████      | 2/5 [00:13<00:21,  7.01s/it]\n",
      "bisection:   0%|          | 0/10 [00:00<?, ?it/s]\u001b[A\n",
      "bisection:  10%|█         | 1/10 [00:03<00:34,  3.88s/it]\u001b[A\n",
      "bisection:  20%|██        | 2/10 [00:05<00:19,  2.47s/it]\u001b[A\n",
      "bisection:  30%|███       | 3/10 [00:07<00:14,  2.09s/it]\u001b[A\n",
      "bisection:  40%|████      | 4/10 [00:11<00:18,  3.06s/it]\u001b[A\n",
      "bisection:  50%|█████     | 5/10 [00:12<00:12,  2.45s/it]\u001b[A\n",
      "bisection:  60%|██████    | 6/10 [00:14<00:08,  2.17s/it]\u001b[A\n",
      "bisection:  70%|███████   | 7/10 [00:16<00:06,  2.02s/it]\u001b[A\n",
      "bisection:  80%|████████  | 8/10 [00:17<00:03,  1.89s/it]\u001b[A\n",
      "bisection:  90%|█████████ | 9/10 [00:21<00:02,  2.53s/it]\u001b[A\n",
      "bisection: 100%|██████████| 10/10 [00:23<00:00,  2.36s/it]\n",
      "Problem_size:  60%|██████    | 3/5 [00:36<00:29, 14.58s/it]\n",
      "bisection:   0%|          | 0/10 [00:00<?, ?it/s]\u001b[A\n",
      "bisection:  10%|█         | 1/10 [00:05<00:48,  5.42s/it]\u001b[A\n",
      "bisection:  20%|██        | 2/10 [00:12<00:51,  6.44s/it]\u001b[A\n",
      "bisection:  30%|███       | 3/10 [00:21<00:51,  7.36s/it]\u001b[A\n",
      "bisection:  40%|████      | 4/10 [00:25<00:36,  6.13s/it]\u001b[A\n",
      "bisection:  50%|█████     | 5/10 [00:33<00:33,  6.75s/it]\u001b[A\n",
      "bisection:  60%|██████    | 6/10 [00:37<00:23,  5.92s/it]\u001b[A\n",
      "bisection:  70%|███████   | 7/10 [00:42<00:16,  5.50s/it]\u001b[A\n",
      "bisection:  80%|████████  | 8/10 [00:48<00:11,  5.78s/it]\u001b[A\n",
      "bisection:  90%|█████████ | 9/10 [01:03<00:08,  8.68s/it]\u001b[A\n",
      "bisection: 100%|██████████| 10/10 [01:11<00:00,  7.12s/it]\n",
      "Problem_size:  80%|████████  | 4/5 [01:47<00:36, 36.95s/it]\n",
      "bisection:   0%|          | 0/10 [00:00<?, ?it/s]\u001b[A\n",
      "bisection:  10%|█         | 1/10 [00:22<03:19, 22.15s/it]\u001b[A\n",
      "bisection:  20%|██        | 2/10 [00:45<03:02, 22.81s/it]\u001b[A\n",
      "bisection:  30%|███       | 3/10 [01:18<03:12, 27.47s/it]\u001b[A\n",
      "bisection:  40%|████      | 4/10 [01:44<02:42, 27.08s/it]\u001b[A\n",
      "bisection:  50%|█████     | 5/10 [01:51<01:38, 19.64s/it]\u001b[A\n",
      "bisection:  60%|██████    | 6/10 [02:24<01:36, 24.17s/it]\u001b[A\n",
      "bisection:  70%|███████   | 7/10 [02:52<01:16, 25.36s/it]\u001b[A\n",
      "bisection:  80%|████████  | 8/10 [03:23<00:54, 27.22s/it]\u001b[A\n",
      "bisection:  90%|█████████ | 9/10 [03:51<00:27, 27.48s/it]\u001b[A\n",
      "bisection: 100%|██████████| 10/10 [04:18<00:00, 25.83s/it]\n",
      "Problem_size: 100%|██████████| 5/5 [06:06<00:00, 73.24s/it] \n"
     ]
    },
    {
     "data": {
      "text/plain": [
       "{'problem_size 10': [(26.0, 312.0),\n",
       "  (22.0, 272.8),\n",
       "  (22.0, 268.4),\n",
       "  (26.0, 327.6),\n",
       "  (22.0, 297.0),\n",
       "  (22.0, 288.2),\n",
       "  (20.0, 236.0),\n",
       "  (20.0, 246.0),\n",
       "  (24.0, 307.2),\n",
       "  (20.0, 206.0)],\n",
       " 'problem_size 20': [(42.0, 701.4),\n",
       "  (38.0, 596.6),\n",
       "  (28.0, 445.2),\n",
       "  (34.0, 547.4),\n",
       "  (36.0, 601.2),\n",
       "  (40.0, 708.0),\n",
       "  (32, 553.6),\n",
       "  (40.0, 640.0),\n",
       "  (36.0, 586.8),\n",
       "  (32, 531.2)],\n",
       " 'problem_size 40': [(68.0, 1428.0),\n",
       "  (46.0, 1048.8),\n",
       "  (56.0, 1220.8),\n",
       "  (66.0, 1452.0),\n",
       "  (62.0, 1376.4),\n",
       "  (62.0, 1469.4),\n",
       "  (56.0, 1276.8),\n",
       "  (62.0, 1351.6),\n",
       "  (68.0, 1414.4),\n",
       "  (58.0, 1334.0)],\n",
       " 'problem_size 80': [(96.0, 2899.2),\n",
       "  (98.0, 2871.4),\n",
       "  (98.0, 3067.4),\n",
       "  (96.0, 2832.0),\n",
       "  (98.0, 3018.4),\n",
       "  (80.0, 2360.0),\n",
       "  (80.0, 2392.0),\n",
       "  (108.0, 3229.2),\n",
       "  (130.0, 3900.0),\n",
       "  (102.0, 3121.2)],\n",
       " 'problem_size 160': [(144.0, 5803.2),\n",
       "  (136.0, 5521.6),\n",
       "  (194.0, 7566.0),\n",
       "  (178.0, 6959.8),\n",
       "  (128, 5094.4),\n",
       "  (194.0, 7779.4),\n",
       "  (138.0, 5589.0),\n",
       "  (194.0, 7643.6),\n",
       "  (150.0, 6165.0),\n",
       "  (146.0, 5767.0)]}"
      ]
     },
     "execution_count": 19,
     "metadata": {},
     "output_type": "execute_result"
    }
   ],
   "source": [
    "problem_size  = np.array([10, 20, 40, 80, 160])\n",
    "n_trials = 10\n",
    "\n",
    "final_results_onemax_UX = {}\n",
    "for num_parameters in tqdm(problem_size, desc = \"Problem_size\"):\n",
    "    final_results_onemax_UX[f\"problem_size {num_parameters}\"] = []\n",
    "    \n",
    "    for i in tqdm(range (n_trials),desc = \"bisection\"):\n",
    "        result = bisection(\n",
    "            objective = onemax,\n",
    "            variance= uniform_crossover,\n",
    "            num_parameters = num_parameters, \n",
    "            ith_bisection = i\n",
    "        )\n",
    "        \n",
    "        if result != (None,None):\n",
    "            final_results_onemax_UX[f\"problem_size {num_parameters}\"].append(result)\n",
    "        else:\n",
    "            final_results_onemax_UX[f\"problem_size {num_parameters}\"] = [(None,None)]\n",
    "            break\n",
    "        \n",
    "final_results_onemax_UX"
   ]
  },
  {
   "cell_type": "markdown",
   "id": "c63acd9e",
   "metadata": {},
   "source": [
    "* **Đây là kết quả chạy thực nghiệm 10 lần bisection** (Mỗi problem size là 10 lần bisection)\n",
    "* Kết quả: \n",
    "    * bên trái là MRPS \n",
    "    * bên phải là Average_number_of_evaluations của 1 bisection \n",
    "(Average_number_of_evaluations được tính bằng cách lấy mean của 10 lần chạy thành công trong một bisection)"
   ]
  },
  {
   "cell_type": "code",
   "execution_count": null,
   "id": "b036e02a",
   "metadata": {},
   "outputs": [],
   "source": []
  },
  {
   "cell_type": "code",
   "execution_count": 20,
   "id": "ed531d89",
   "metadata": {
    "execution": {
     "iopub.execute_input": "2024-03-19T10:25:33.832891Z",
     "iopub.status.busy": "2024-03-19T10:25:33.832516Z",
     "iopub.status.idle": "2024-03-19T10:25:33.845331Z",
     "shell.execute_reply": "2024-03-19T10:25:33.844168Z"
    },
    "papermill": {
     "duration": 0.062559,
     "end_time": "2024-03-19T10:25:33.848230",
     "exception": false,
     "start_time": "2024-03-19T10:25:33.785671",
     "status": "completed"
    },
    "tags": []
   },
   "outputs": [
    {
     "data": {
      "text/plain": [
       "({'problem_size 10': array([ 22.4 , 276.12]),\n",
       "  'problem_size 20': array([ 35.8 , 591.14]),\n",
       "  'problem_size 40': array([  60.4 , 1337.22]),\n",
       "  'problem_size 80': array([  98.6 , 2969.08]),\n",
       "  'problem_size 160': array([ 160.2, 6388.9])},\n",
       " {'problem_size 10': array([ 2.15406592, 36.04122085]),\n",
       "  'problem_size 20': array([ 4.14246304, 75.20931059]),\n",
       "  'problem_size 40': array([  6.37495098, 121.23789672]),\n",
       "  'problem_size 80': array([ 13.38805438, 413.12583265]),\n",
       "  'problem_size 160': array([ 25.35271189, 952.20630223])})"
      ]
     },
     "execution_count": 20,
     "metadata": {},
     "output_type": "execute_result"
    }
   ],
   "source": [
    "final_results_onemax_UX_average = {}\n",
    "final_results_onemax_UX_std = {}\n",
    "\n",
    "for i in problem_size:\n",
    "    if final_results_onemax_UX[f'problem_size {i}'] == [(None,None)]:\n",
    "        final_results_onemax_UX_average[f'problem_size {i}'] = np.array([None,None])\n",
    "        final_results_onemax_UX_std[f'problem_size {i}'] = np.array([None,None])\n",
    "    \n",
    "    else:\n",
    "        final_results_onemax_UX_average[f'problem_size {i}'] = np.average(final_results_onemax_UX[f'problem_size {i}'], \n",
    "                                                                      axis = 0)\n",
    "        final_results_onemax_UX_std[f'problem_size {i}'] = np.std(final_results_onemax_UX[f'problem_size {i}'], \n",
    "                                                              axis = 0)\n",
    "\n",
    "final_results_onemax_UX_average, final_results_onemax_UX_std"
   ]
  },
  {
   "cell_type": "markdown",
   "id": "ac5c72a3",
   "metadata": {},
   "source": [
    "* **Phần bên trên là kết quả trung bình**: \n",
    "    * Ứng với problem size: \n",
    "        * Bên trái là giá trị MRPS trung bình của 10 lần bisection\n",
    "        * Bên phải là giá trị Average_number_of_evaluations trung bình của 10 lần bisection\n",
    "* **Phần dưới là độ lệch chuẩn**:\n",
    "    * Ứng với problem size: \n",
    "        * Bên trái là độ lệch chuẩn của MRPS của 10 lần bisection\n",
    "        * Bên phải là độ lệch chuẩn của Average_number_of_evaluations trung bình của 10 lần bisection"
   ]
  },
  {
   "cell_type": "code",
   "execution_count": null,
   "id": "034afabd",
   "metadata": {},
   "outputs": [],
   "source": []
  },
  {
   "cell_type": "code",
   "execution_count": 21,
   "id": "3c732a29",
   "metadata": {
    "execution": {
     "iopub.execute_input": "2024-03-19T10:25:33.922794Z",
     "iopub.status.busy": "2024-03-19T10:25:33.921969Z",
     "iopub.status.idle": "2024-03-19T10:25:33.929287Z",
     "shell.execute_reply": "2024-03-19T10:25:33.928365Z"
    },
    "papermill": {
     "duration": 0.048482,
     "end_time": "2024-03-19T10:25:33.932121",
     "exception": false,
     "start_time": "2024-03-19T10:25:33.883639",
     "status": "completed"
    },
    "tags": []
   },
   "outputs": [],
   "source": [
    "MRPS_onemax_UX_average = np.array([values[0] for values in final_results_onemax_UX_average.values()])\n",
    "MRPS_onemax_UX_std = np.array([values[0] for values in final_results_onemax_UX_std.values()])\n",
    "n_evaluations_onemax_UX_average = np.array([values[1] for values in final_results_onemax_UX_average.values()])\n",
    "n_evaluations_onemax_UX_std = np.array([values[1] for values in final_results_onemax_UX_std.values()])"
   ]
  },
  {
   "cell_type": "markdown",
   "id": "ece38bda",
   "metadata": {
    "papermill": {
     "duration": 0.039987,
     "end_time": "2024-03-19T10:25:34.014420",
     "exception": false,
     "start_time": "2024-03-19T10:25:33.974433",
     "status": "completed"
    },
    "tags": []
   },
   "source": [
    "### Onepoint Crossover"
   ]
  },
  {
   "cell_type": "code",
   "execution_count": 22,
   "id": "a81c4e15",
   "metadata": {
    "collapsed": true,
    "execution": {
     "iopub.execute_input": "2024-03-19T10:25:34.091801Z",
     "iopub.status.busy": "2024-03-19T10:25:34.091008Z",
     "iopub.status.idle": "2024-03-19T10:51:47.071136Z",
     "shell.execute_reply": "2024-03-19T10:51:47.069822Z"
    },
    "jupyter": {
     "outputs_hidden": true
    },
    "papermill": {
     "duration": 1573.068605,
     "end_time": "2024-03-19T10:51:47.120594",
     "exception": false,
     "start_time": "2024-03-19T10:25:34.051989",
     "status": "completed"
    },
    "tags": []
   },
   "outputs": [
    {
     "name": "stderr",
     "output_type": "stream",
     "text": [
      "Problem_size:   0%|          | 0/5 [00:00<?, ?it/s]\n",
      "bisection:   0%|          | 0/10 [00:00<?, ?it/s]\u001b[A\n",
      "bisection:  10%|█         | 1/10 [00:00<00:05,  1.65it/s]\u001b[A\n",
      "bisection:  20%|██        | 2/10 [00:01<00:05,  1.39it/s]\u001b[A\n",
      "bisection:  30%|███       | 3/10 [00:01<00:03,  1.97it/s]\u001b[A\n",
      "bisection:  40%|████      | 4/10 [00:01<00:02,  2.55it/s]\u001b[A\n",
      "bisection:  50%|█████     | 5/10 [00:02<00:01,  2.93it/s]\u001b[A\n",
      "bisection:  60%|██████    | 6/10 [00:02<00:01,  3.01it/s]\u001b[A\n",
      "bisection:  70%|███████   | 7/10 [00:02<00:00,  3.12it/s]\u001b[A\n",
      "bisection:  80%|████████  | 8/10 [00:03<00:00,  3.16it/s]\u001b[A\n",
      "bisection:  90%|█████████ | 9/10 [00:03<00:00,  3.39it/s]\u001b[A\n",
      "bisection: 100%|██████████| 10/10 [00:03<00:00,  2.78it/s]\n",
      "Problem_size:  20%|██        | 1/5 [00:03<00:14,  3.61s/it]\n",
      "bisection:   0%|          | 0/10 [00:00<?, ?it/s]\u001b[A\n",
      "bisection:  10%|█         | 1/10 [00:01<00:09,  1.08s/it]\u001b[A\n",
      "bisection:  20%|██        | 2/10 [00:01<00:06,  1.25it/s]\u001b[A\n",
      "bisection:  30%|███       | 3/10 [00:03<00:09,  1.33s/it]\u001b[A\n",
      "bisection:  40%|████      | 4/10 [00:04<00:07,  1.18s/it]\u001b[A\n",
      "bisection:  50%|█████     | 5/10 [00:06<00:07,  1.57s/it]\u001b[A\n",
      "bisection:  60%|██████    | 6/10 [00:07<00:05,  1.39s/it]\u001b[A\n",
      "bisection:  70%|███████   | 7/10 [00:08<00:03,  1.18s/it]\u001b[A\n",
      "bisection:  80%|████████  | 8/10 [00:10<00:03,  1.54s/it]\u001b[A\n",
      "bisection:  90%|█████████ | 9/10 [00:11<00:01,  1.37s/it]\u001b[A\n",
      "bisection: 100%|██████████| 10/10 [00:14<00:00,  1.44s/it]\n",
      "Problem_size:  40%|████      | 2/5 [00:17<00:29,  9.94s/it]\n",
      "bisection:   0%|          | 0/10 [00:00<?, ?it/s]\u001b[A\n",
      "bisection:  10%|█         | 1/10 [00:08<01:14,  8.22s/it]\u001b[A\n",
      "bisection:  20%|██        | 2/10 [00:15<01:01,  7.66s/it]\u001b[A\n",
      "bisection:  30%|███       | 3/10 [00:17<00:36,  5.20s/it]\u001b[A\n",
      "bisection:  40%|████      | 4/10 [00:25<00:37,  6.27s/it]\u001b[A\n",
      "bisection:  50%|█████     | 5/10 [00:44<00:54, 10.96s/it]\u001b[A\n",
      "bisection:  60%|██████    | 6/10 [00:54<00:41, 10.43s/it]\u001b[A\n",
      "bisection:  70%|███████   | 7/10 [01:01<00:28,  9.44s/it]\u001b[A\n",
      "bisection:  80%|████████  | 8/10 [01:09<00:17,  8.96s/it]\u001b[A\n",
      "bisection:  90%|█████████ | 9/10 [01:17<00:08,  8.68s/it]\u001b[A\n",
      "bisection: 100%|██████████| 10/10 [01:26<00:00,  8.64s/it]\n",
      "Problem_size:  60%|██████    | 3/5 [01:44<01:29, 44.86s/it]\n",
      "bisection:   0%|          | 0/10 [00:00<?, ?it/s]\u001b[A\n",
      "bisection:  10%|█         | 1/10 [00:41<06:11, 41.32s/it]\u001b[A\n",
      "bisection:  20%|██        | 2/10 [02:05<08:50, 66.32s/it]\u001b[A\n",
      "bisection:  30%|███       | 3/10 [02:39<06:01, 51.66s/it]\u001b[A\n",
      "bisection:  40%|████      | 4/10 [04:06<06:34, 65.81s/it]\u001b[A\n",
      "bisection:  50%|█████     | 5/10 [04:41<04:31, 54.39s/it]\u001b[A\n",
      "bisection:  60%|██████    | 6/10 [05:55<04:05, 61.32s/it]\u001b[A\n",
      "bisection:  70%|███████   | 7/10 [07:04<03:11, 63.70s/it]\u001b[A\n",
      "bisection:  80%|████████  | 8/10 [07:40<01:49, 54.99s/it]\u001b[A\n",
      "bisection:  90%|█████████ | 9/10 [09:08<01:05, 65.25s/it]\u001b[A\n",
      "bisection: 100%|██████████| 10/10 [10:21<00:00, 62.14s/it]\n",
      "Problem_size:  80%|████████  | 4/5 [12:05<04:32, 272.48s/it]\n",
      "bisection:   0%|          | 0/10 [00:00<?, ?it/s]\u001b[A\n",
      "bisection:  10%|█         | 1/10 [03:14<29:13, 194.84s/it]\u001b[A\n",
      "bisection:  20%|██        | 2/10 [08:14<34:10, 256.29s/it]\u001b[A\n",
      "bisection:  30%|███       | 3/10 [14:07<32:56, 282.38s/it]\n",
      "Problem_size: 100%|██████████| 5/5 [26:12<00:00, 314.59s/it]\n"
     ]
    },
    {
     "data": {
      "text/plain": [
       "{'problem_size 10': [(36.0, 414.0),\n",
       "  (34.0, 418.2),\n",
       "  (28.0, 378.0),\n",
       "  (24.0, 278.4),\n",
       "  (24.0, 326.4),\n",
       "  (30.0, 393.0),\n",
       "  (20.0, 264.0),\n",
       "  (22.0, 290.4),\n",
       "  (28.0, 341.6),\n",
       "  (30.0, 387.0)],\n",
       " 'problem_size 20': [(58.0, 1009.2),\n",
       "  (64, 1196.8),\n",
       "  (72.0, 1252.8),\n",
       "  (64, 1088.0),\n",
       "  (66.0, 1207.8),\n",
       "  (62.0, 1097.4),\n",
       "  (48.0, 868.8),\n",
       "  (68.0, 1237.6),\n",
       "  (62.0, 1035.4),\n",
       "  (66.0, 1188.0)],\n",
       " 'problem_size 40': [(182.0, 4641.0),\n",
       "  (176.0, 4523.2),\n",
       "  (128, 3315.2),\n",
       "  (172.0, 4781.6),\n",
       "  (258.0, 6888.6),\n",
       "  (194.0, 4888.8),\n",
       "  (160.0, 4080.0),\n",
       "  (164.0, 4214.8),\n",
       "  (148.0, 3729.6),\n",
       "  (178.0, 4699.2)],\n",
       " 'problem_size 80': [(484.0, 17472.4),\n",
       "  (642.0, 23304.6),\n",
       "  (442.0, 16928.6),\n",
       "  (616.0, 23100.0),\n",
       "  (484.0, 17666.0),\n",
       "  (668.0, 23847.6),\n",
       "  (540.0, 20412.0),\n",
       "  (506.0, 18114.8),\n",
       "  (584.0, 21257.6),\n",
       "  (532.0, 18832.8)],\n",
       " 'problem_size 160': [(None, None)]}"
      ]
     },
     "execution_count": 22,
     "metadata": {},
     "output_type": "execute_result"
    }
   ],
   "source": [
    "problem_size  = np.array([10, 20, 40, 80, 160])\n",
    "n_trials = 10\n",
    "\n",
    "final_results_onemax_1X = {}\n",
    "for num_parameters in tqdm(problem_size, desc = \"Problem_size\"):\n",
    "    final_results_onemax_1X[f\"problem_size {num_parameters}\"] = []\n",
    "    \n",
    "    for i in tqdm(range (n_trials),desc = \"bisection\"):\n",
    "        result = bisection(\n",
    "            objective = onemax, \n",
    "            variance = onepoint_crossover,\n",
    "            num_parameters = num_parameters, \n",
    "            ith_bisection = i\n",
    "        )\n",
    "        \n",
    "        if result != (None,None):\n",
    "            final_results_onemax_1X[f\"problem_size {num_parameters}\"].append(result)\n",
    "        else:\n",
    "            final_results_onemax_1X[f\"problem_size {num_parameters}\"] = [(None,None)]\n",
    "            break\n",
    "        \n",
    "final_results_onemax_1X"
   ]
  },
  {
   "cell_type": "markdown",
   "id": "100bcdbb",
   "metadata": {},
   "source": [
    "* **Đây là kết quả chạy thực nghiệm 10 lần bisection** (Mỗi problem size là 10 lần bisection)\n",
    "* Kết quả: \n",
    "    * bên trái là MRPS \n",
    "    * bên phải là Average_number_of_evaluations của 1 bisection \n",
    "(Average_number_of_evaluations được tính bằng cách lấy mean của 10 lần chạy thành công trong một bisection)"
   ]
  },
  {
   "cell_type": "code",
   "execution_count": null,
   "id": "6e7eb2c0",
   "metadata": {},
   "outputs": [],
   "source": []
  },
  {
   "cell_type": "code",
   "execution_count": 23,
   "id": "768a8ffc",
   "metadata": {
    "execution": {
     "iopub.execute_input": "2024-03-19T10:51:47.224480Z",
     "iopub.status.busy": "2024-03-19T10:51:47.224039Z",
     "iopub.status.idle": "2024-03-19T10:51:47.237168Z",
     "shell.execute_reply": "2024-03-19T10:51:47.235934Z"
    },
    "papermill": {
     "duration": 0.068257,
     "end_time": "2024-03-19T10:51:47.239840",
     "exception": false,
     "start_time": "2024-03-19T10:51:47.171583",
     "status": "completed"
    },
    "tags": []
   },
   "outputs": [
    {
     "data": {
      "text/plain": [
       "({'problem_size 10': array([ 27.6, 349.1]),\n",
       "  'problem_size 20': array([  63.  , 1118.18]),\n",
       "  'problem_size 40': array([ 176. , 4576.2]),\n",
       "  'problem_size 80': array([  549.8 , 20093.64]),\n",
       "  'problem_size 160': array([None, None], dtype=object)},\n",
       " {'problem_size 10': array([ 4.88262225, 54.26175449]),\n",
       "  'problem_size 20': array([  6.14817046, 115.64322548]),\n",
       "  'problem_size 40': array([ 32.54535297, 905.14726316]),\n",
       "  'problem_size 80': array([  71.15869588, 2513.64625164]),\n",
       "  'problem_size 160': array([None, None], dtype=object)})"
      ]
     },
     "execution_count": 23,
     "metadata": {},
     "output_type": "execute_result"
    }
   ],
   "source": [
    "final_results_onemax_1X_average = {}\n",
    "final_results_onemax_1X_std = {}\n",
    "\n",
    "for i in problem_size:\n",
    "    if final_results_onemax_1X[f'problem_size {i}'] == [(None,None)]:\n",
    "        final_results_onemax_1X_average[f'problem_size {i}'] = np.array([None,None])\n",
    "        final_results_onemax_1X_std[f'problem_size {i}'] = np.array([None,None])\n",
    "    \n",
    "    else:\n",
    "        final_results_onemax_1X_average[f'problem_size {i}'] = np.average(final_results_onemax_1X[f'problem_size {i}'], \n",
    "                                                                      axis = 0)\n",
    "        final_results_onemax_1X_std[f'problem_size {i}'] = np.std(final_results_onemax_1X[f'problem_size {i}'], \n",
    "                                                              axis = 0)\n",
    "\n",
    "final_results_onemax_1X_average, final_results_onemax_1X_std"
   ]
  },
  {
   "cell_type": "markdown",
   "id": "5d2dfeaf",
   "metadata": {},
   "source": [
    "* **Phần bên trên là kết quả trung bình**: \n",
    "    * Ứng với problem size: \n",
    "        * Bên trái là giá trị MRPS trung bình của 10 lần bisection\n",
    "        * Bên phải là giá trị Average_number_of_evaluations trung bình của 10 lần bisection\n",
    "* **Phần dưới là độ lệch chuẩn**:\n",
    "    * Ứng với problem size: \n",
    "        * Bên trái là độ lệch chuẩn của MRPS của 10 lần bisection\n",
    "        * Bên phải là độ lệch chuẩn của Average_number_of_evaluations trung bình của 10 lần bisection"
   ]
  },
  {
   "cell_type": "code",
   "execution_count": null,
   "id": "00062c52",
   "metadata": {},
   "outputs": [],
   "source": []
  },
  {
   "cell_type": "code",
   "execution_count": 24,
   "id": "abc4e1ab",
   "metadata": {
    "execution": {
     "iopub.execute_input": "2024-03-19T10:51:47.345679Z",
     "iopub.status.busy": "2024-03-19T10:51:47.345264Z",
     "iopub.status.idle": "2024-03-19T10:51:47.351632Z",
     "shell.execute_reply": "2024-03-19T10:51:47.350744Z"
    },
    "papermill": {
     "duration": 0.061689,
     "end_time": "2024-03-19T10:51:47.354265",
     "exception": false,
     "start_time": "2024-03-19T10:51:47.292576",
     "status": "completed"
    },
    "tags": []
   },
   "outputs": [],
   "source": [
    "MRPS_onemax_1X_average = np.array([values[0] for values in final_results_onemax_1X_average.values()])\n",
    "MRPS_onemax_1X_std = np.array([values[0] for values in final_results_onemax_1X_std.values()])\n",
    "n_evaluations_onemax_1X_average = np.array([values[1] for values in final_results_onemax_1X_average.values()])\n",
    "n_evaluations_onemax_1X_std = np.array([values[1] for values in final_results_onemax_1X_std.values()])"
   ]
  },
  {
   "cell_type": "code",
   "execution_count": 25,
   "id": "df746fd2",
   "metadata": {
    "execution": {
     "iopub.execute_input": "2024-03-19T10:51:47.458893Z",
     "iopub.status.busy": "2024-03-19T10:51:47.458404Z",
     "iopub.status.idle": "2024-03-19T10:51:48.330274Z",
     "shell.execute_reply": "2024-03-19T10:51:48.329041Z"
    },
    "papermill": {
     "duration": 0.92789,
     "end_time": "2024-03-19T10:51:48.333800",
     "exception": false,
     "start_time": "2024-03-19T10:51:47.405910",
     "status": "completed"
    },
    "tags": []
   },
   "outputs": [
    {
     "data": {
      "text/plain": [
       "<matplotlib.legend.Legend at 0x7b0d9e73d930>"
      ]
     },
     "execution_count": 25,
     "metadata": {},
     "output_type": "execute_result"
    },
    {
     "data": {
      "image/png": "[encoded data removed]",
      "text/plain": [
       "<Figure size 640x480 with 1 Axes>"
      ]
     },
     "metadata": {},
     "output_type": "display_data"
    }
   ],
   "source": [
    "plt.figure()\n",
    "plt.plot(\n",
    "    problem_size[MRPS_onemax_UX_average != None],\n",
    "    MRPS_onemax_UX_average[MRPS_onemax_UX_average != None].astype(float),\n",
    "    marker='o',\n",
    "    color= 'b',\n",
    "    label = \"GA(UX)\"\n",
    ")\n",
    "\n",
    "plt.fill_between(\n",
    "    problem_size[MRPS_onemax_UX_average != None],\n",
    "    MRPS_onemax_UX_average[MRPS_onemax_UX_average != None].astype(float) + MRPS_onemax_UX_std[MRPS_onemax_UX_std != None].astype(float),\n",
    "    MRPS_onemax_UX_average[MRPS_onemax_UX_average != None].astype(float) - MRPS_onemax_UX_std[MRPS_onemax_UX_std != None].astype(float),\n",
    "    facecolor='b', \n",
    "    alpha=0.1\n",
    ")\n",
    "\n",
    "plt.plot(\n",
    "    problem_size[MRPS_onemax_1X_average != None],\n",
    "    MRPS_onemax_1X_average[MRPS_onemax_1X_average != None].astype(float),\n",
    "    marker='o',\n",
    "    color= 'g',\n",
    "    label = \"GA(1X)\"\n",
    ")\n",
    "\n",
    "plt.fill_between(\n",
    "    problem_size[MRPS_onemax_1X_average != None],\n",
    "    MRPS_onemax_1X_average[MRPS_onemax_1X_average != None].astype(float) + MRPS_onemax_1X_std[MRPS_onemax_1X_std != None].astype(float),\n",
    "    MRPS_onemax_1X_average[MRPS_onemax_1X_average != None].astype(float) - MRPS_onemax_1X_std[MRPS_onemax_1X_std != None].astype(float),\n",
    "    facecolor='g', \n",
    "    alpha=0.1\n",
    ")\n",
    "plt.title(\"Problem_size vs MRPS\")\n",
    "plt.xlabel('Problem size')\n",
    "plt.xlim(4, 180)\n",
    "plt.ylabel('MRPS')\n",
    "plt.xscale('log')\n",
    "plt.yscale('log')\n",
    "plt.legend()\n"
   ]
  },
  {
   "cell_type": "code",
   "execution_count": 26,
   "id": "b8dcada9",
   "metadata": {
    "execution": {
     "iopub.execute_input": "2024-03-19T10:51:48.448653Z",
     "iopub.status.busy": "2024-03-19T10:51:48.448185Z",
     "iopub.status.idle": "2024-03-19T10:51:49.316161Z",
     "shell.execute_reply": "2024-03-19T10:51:49.314811Z"
    },
    "papermill": {
     "duration": 0.925758,
     "end_time": "2024-03-19T10:51:49.319537",
     "exception": false,
     "start_time": "2024-03-19T10:51:48.393779",
     "status": "completed"
    },
    "tags": []
   },
   "outputs": [
    {
     "data": {
      "text/plain": [
       "<matplotlib.legend.Legend at 0x7b0d9e86b490>"
      ]
     },
     "execution_count": 26,
     "metadata": {},
     "output_type": "execute_result"
    },
    {
     "data": {
      "image/png": "[encoded data removed]",
      "text/plain": [
       "<Figure size 640x480 with 1 Axes>"
      ]
     },
     "metadata": {},
     "output_type": "display_data"
    }
   ],
   "source": [
    "plt.figure()\n",
    "plt.plot(\n",
    "    problem_size[n_evaluations_onemax_UX_average != None],\n",
    "    n_evaluations_onemax_UX_average[n_evaluations_onemax_UX_average != None].astype(float),\n",
    "    marker='o',\n",
    "    color= 'b',\n",
    "    label = \"GA(UX)\"\n",
    ")\n",
    "\n",
    "plt.fill_between(\n",
    "    problem_size[n_evaluations_onemax_UX_average != None],\n",
    "    n_evaluations_onemax_UX_average[n_evaluations_onemax_UX_average != None].astype(float) + n_evaluations_onemax_UX_std[n_evaluations_onemax_UX_std != None].astype(float),\n",
    "    n_evaluations_onemax_UX_average[n_evaluations_onemax_UX_average != None].astype(float) - n_evaluations_onemax_UX_std[n_evaluations_onemax_UX_std != None].astype(float),\n",
    "    facecolor='b', \n",
    "    alpha=0.1\n",
    ")\n",
    "\n",
    "plt.plot(\n",
    "    problem_size[n_evaluations_onemax_1X_average != None],\n",
    "    n_evaluations_onemax_1X_average[n_evaluations_onemax_1X_average != None].astype(float),\n",
    "    marker='o',\n",
    "    color= 'g',\n",
    "    label = \"GA(1X)\"\n",
    ")\n",
    "\n",
    "plt.fill_between(\n",
    "    problem_size[n_evaluations_onemax_1X_average != None],\n",
    "    n_evaluations_onemax_1X_average[n_evaluations_onemax_1X_average != None].astype(float) + n_evaluations_onemax_1X_std[n_evaluations_onemax_1X_std != None].astype(float),\n",
    "    n_evaluations_onemax_1X_average[n_evaluations_onemax_1X_average != None].astype(float) - n_evaluations_onemax_1X_std[n_evaluations_onemax_1X_std != None].astype(float),\n",
    "    facecolor='g', \n",
    "    alpha=0.1\n",
    ")\n",
    "plt.title(\"Problem_size vs n_evaluations\")\n",
    "plt.xlabel('Problem size')\n",
    "plt.xlim(4, 180)\n",
    "plt.ylabel('n_evaluations')\n",
    "plt.xscale('log')\n",
    "plt.yscale('log')\n",
    "plt.legend()\n"
   ]
  },
  {
   "cell_type": "markdown",
   "id": "e4c8b90c",
   "metadata": {
    "papermill": {
     "duration": 0.054735,
     "end_time": "2024-03-19T10:51:49.426586",
     "exception": false,
     "start_time": "2024-03-19T10:51:49.371851",
     "status": "completed"
    },
    "tags": []
   },
   "source": [
    "## LeadingOne"
   ]
  },
  {
   "cell_type": "markdown",
   "id": "2287388c",
   "metadata": {
    "papermill": {
     "duration": 0.053515,
     "end_time": "2024-03-19T10:51:49.536266",
     "exception": false,
     "start_time": "2024-03-19T10:51:49.482751",
     "status": "completed"
    },
    "tags": []
   },
   "source": [
    "### Uniform Crossover"
   ]
  },
  {
   "cell_type": "code",
   "execution_count": 27,
   "id": "1f750aa7",
   "metadata": {
    "execution": {
     "iopub.execute_input": "2024-03-19T10:51:49.645503Z",
     "iopub.status.busy": "2024-03-19T10:51:49.644097Z",
     "iopub.status.idle": "2024-03-19T10:58:29.010600Z",
     "shell.execute_reply": "2024-03-19T10:58:29.009127Z"
    },
    "papermill": {
     "duration": 399.483972,
     "end_time": "2024-03-19T10:58:29.073448",
     "exception": false,
     "start_time": "2024-03-19T10:51:49.589476",
     "status": "completed"
    },
    "tags": []
   },
   "outputs": [
    {
     "name": "stderr",
     "output_type": "stream",
     "text": [
      "Problem_size:   0%|          | 0/5 [00:00<?, ?it/s]\n",
      "bisection:   0%|          | 0/10 [00:00<?, ?it/s]\u001b[A\n",
      "bisection:  10%|█         | 1/10 [00:00<00:08,  1.03it/s]\u001b[A\n",
      "bisection:  20%|██        | 2/10 [00:01<00:07,  1.04it/s]\u001b[A\n",
      "bisection:  30%|███       | 3/10 [00:03<00:07,  1.12s/it]\u001b[A\n",
      "bisection:  40%|████      | 4/10 [00:04<00:06,  1.14s/it]\u001b[A\n",
      "bisection:  50%|█████     | 5/10 [00:05<00:05,  1.13s/it]\u001b[A\n",
      "bisection:  60%|██████    | 6/10 [00:06<00:04,  1.07s/it]\u001b[A\n",
      "bisection:  70%|███████   | 7/10 [00:07<00:03,  1.12s/it]\u001b[A\n",
      "bisection:  80%|████████  | 8/10 [00:09<00:02,  1.19s/it]\u001b[A\n",
      "bisection:  90%|█████████ | 9/10 [00:10<00:01,  1.27s/it]\u001b[A\n",
      "bisection: 100%|██████████| 10/10 [00:12<00:00,  1.23s/it]\n",
      "Problem_size:  20%|██        | 1/5 [00:12<00:49, 12.30s/it]\n",
      "bisection:   0%|          | 0/10 [00:00<?, ?it/s]\u001b[A\n",
      "bisection:  10%|█         | 1/10 [00:07<01:09,  7.70s/it]\u001b[A\n",
      "bisection:  20%|██        | 2/10 [00:19<01:20, 10.03s/it]\u001b[A\n",
      "bisection:  30%|███       | 3/10 [00:32<01:20, 11.45s/it]\u001b[A\n",
      "bisection:  40%|████      | 4/10 [00:39<00:57,  9.66s/it]\u001b[A\n",
      "bisection:  50%|█████     | 5/10 [00:46<00:42,  8.58s/it]\u001b[A\n",
      "bisection:  60%|██████    | 6/10 [01:01<00:43, 10.96s/it]\u001b[A\n",
      "bisection:  70%|███████   | 7/10 [01:16<00:36, 12.19s/it]\u001b[A\n",
      "bisection:  80%|████████  | 8/10 [01:27<00:23, 11.71s/it]\u001b[A\n",
      "bisection:  90%|█████████ | 9/10 [01:41<00:12, 12.64s/it]\u001b[A\n",
      "bisection: 100%|██████████| 10/10 [01:50<00:00, 11.00s/it]\n",
      "Problem_size:  40%|████      | 2/5 [02:02<03:29, 69.80s/it]\n",
      "bisection:   0%|          | 0/10 [00:00<?, ?it/s]\u001b[A\n",
      "bisection:  10%|█         | 1/10 [03:08<28:17, 188.56s/it]\n",
      "Problem_size:  60%|██████    | 3/5 [05:10<04:08, 124.03s/it]\n",
      "bisection:   0%|          | 0/10 [00:36<?, ?it/s]\n",
      "Problem_size:  80%|████████  | 4/5 [05:47<01:29, 89.57s/it] \n",
      "bisection:   0%|          | 0/10 [00:51<?, ?it/s]\n",
      "Problem_size: 100%|██████████| 5/5 [06:39<00:00, 79.87s/it]\n"
     ]
    },
    {
     "data": {
      "text/plain": [
       "{'problem_size 10': [(40.0, 600.0),\n",
       "  (44.0, 818.4),\n",
       "  (58.0, 933.8),\n",
       "  (40.0, 860.0),\n",
       "  (56.0, 1008.0),\n",
       "  (54.0, 869.4),\n",
       "  (42.0, 709.8),\n",
       "  (44.0, 730.4),\n",
       "  (46.0, 887.8),\n",
       "  (54.0, 1247.4)],\n",
       " 'problem_size 20': [(126.0, 3918.6),\n",
       "  (130.0, 3965.0),\n",
       "  (150.0, 10605.0),\n",
       "  (112.0, 3360.0),\n",
       "  (104.0, 3484.0),\n",
       "  (162.0, 5329.8),\n",
       "  (166.0, 6059.0),\n",
       "  (126.0, 4699.8),\n",
       "  (138.0, 4581.6),\n",
       "  (102.0, 3794.4)],\n",
       " 'problem_size 40': [(None, None)],\n",
       " 'problem_size 80': [(None, None)],\n",
       " 'problem_size 160': [(None, None)]}"
      ]
     },
     "execution_count": 27,
     "metadata": {},
     "output_type": "execute_result"
    }
   ],
   "source": [
    "problem_size  = np.array([10, 20, 40, 80, 160])\n",
    "n_trials = 10\n",
    "\n",
    "final_results_leadingone_UX = {}\n",
    "for num_parameters in tqdm(problem_size, desc = \"Problem_size\"):\n",
    "    final_results_leadingone_UX[f\"problem_size {num_parameters}\"] = []\n",
    "    \n",
    "    for i in tqdm(range (n_trials),desc = \"bisection\"):\n",
    "        result = bisection(\n",
    "            objective = leadingone,\n",
    "            variance= uniform_crossover,\n",
    "            num_parameters = num_parameters, \n",
    "            ith_bisection = i\n",
    "        )\n",
    "        \n",
    "        if result != (None,None):\n",
    "            final_results_leadingone_UX[f\"problem_size {num_parameters}\"].append(result)\n",
    "        else:\n",
    "            final_results_leadingone_UX[f\"problem_size {num_parameters}\"] = [(None,None)]\n",
    "            break\n",
    "        \n",
    "final_results_leadingone_UX"
   ]
  },
  {
   "cell_type": "markdown",
   "id": "942ea508",
   "metadata": {},
   "source": [
    "* **Đây là kết quả chạy thực nghiệm 10 lần bisection** (Mỗi problem size là 10 lần bisection)\n",
    "* Kết quả: \n",
    "    * bên trái là MRPS \n",
    "    * bên phải là Average_number_of_evaluations của 1 bisection \n",
    "(Average_number_of_evaluations được tính bằng cách lấy mean của 10 lần chạy thành công trong một bisection)"
   ]
  },
  {
   "cell_type": "code",
   "execution_count": null,
   "id": "04f5eced",
   "metadata": {},
   "outputs": [],
   "source": []
  },
  {
   "cell_type": "code",
   "execution_count": 28,
   "id": "3f6da2df",
   "metadata": {
    "execution": {
     "iopub.execute_input": "2024-03-19T10:58:29.198190Z",
     "iopub.status.busy": "2024-03-19T10:58:29.197668Z",
     "iopub.status.idle": "2024-03-19T10:58:29.212752Z",
     "shell.execute_reply": "2024-03-19T10:58:29.211285Z"
    },
    "papermill": {
     "duration": 0.08151,
     "end_time": "2024-03-19T10:58:29.215799",
     "exception": false,
     "start_time": "2024-03-19T10:58:29.134289",
     "status": "completed"
    },
    "tags": []
   },
   "outputs": [
    {
     "data": {
      "text/plain": [
       "({'problem_size 10': array([ 47.8, 866.5]),\n",
       "  'problem_size 20': array([ 131.6 , 4979.72]),\n",
       "  'problem_size 40': array([None, None], dtype=object),\n",
       "  'problem_size 80': array([None, None], dtype=object),\n",
       "  'problem_size 160': array([None, None], dtype=object)},\n",
       " {'problem_size 10': array([  6.6       , 169.27925449]),\n",
       "  'problem_size 20': array([  21.38784702, 2039.34592887]),\n",
       "  'problem_size 40': array([None, None], dtype=object),\n",
       "  'problem_size 80': array([None, None], dtype=object),\n",
       "  'problem_size 160': array([None, None], dtype=object)})"
      ]
     },
     "execution_count": 28,
     "metadata": {},
     "output_type": "execute_result"
    }
   ],
   "source": [
    "final_results_leadingone_UX_average = {}\n",
    "final_results_leadingone_UX_std = {}\n",
    "\n",
    "for i in problem_size:\n",
    "    if final_results_leadingone_UX[f'problem_size {i}'] == [(None,None)]:\n",
    "        final_results_leadingone_UX_average[f'problem_size {i}'] = np.array([None,None])\n",
    "        final_results_leadingone_UX_std[f'problem_size {i}'] = np.array([None,None])\n",
    "    \n",
    "    else:\n",
    "        final_results_leadingone_UX_average[f'problem_size {i}'] = np.average(final_results_leadingone_UX[f'problem_size {i}'], \n",
    "                                                                      axis = 0)\n",
    "        final_results_leadingone_UX_std[f'problem_size {i}'] = np.std(final_results_leadingone_UX[f'problem_size {i}'], \n",
    "                                                              axis = 0)\n",
    "\n",
    "final_results_leadingone_UX_average, final_results_leadingone_UX_std"
   ]
  },
  {
   "cell_type": "markdown",
   "id": "a9136567",
   "metadata": {},
   "source": [
    "* **Phần bên trên là kết quả trung bình**: \n",
    "    * Ứng với problem size: \n",
    "        * Bên trái là giá trị MRPS trung bình của 10 lần bisection\n",
    "        * Bên phải là giá trị Average_number_of_evaluations trung bình của 10 lần bisection\n",
    "* **Phần dưới là độ lệch chuẩn**:\n",
    "    * Ứng với problem size: \n",
    "        * Bên trái là độ lệch chuẩn của MRPS của 10 lần bisection\n",
    "        * Bên phải là độ lệch chuẩn của Average_number_of_evaluations trung bình của 10 lần bisection"
   ]
  },
  {
   "cell_type": "code",
   "execution_count": null,
   "id": "8d3f3559",
   "metadata": {},
   "outputs": [],
   "source": []
  },
  {
   "cell_type": "code",
   "execution_count": 29,
   "id": "88498454",
   "metadata": {
    "execution": {
     "iopub.execute_input": "2024-03-19T10:58:29.342005Z",
     "iopub.status.busy": "2024-03-19T10:58:29.341530Z",
     "iopub.status.idle": "2024-03-19T10:58:29.349595Z",
     "shell.execute_reply": "2024-03-19T10:58:29.347960Z"
    },
    "papermill": {
     "duration": 0.075322,
     "end_time": "2024-03-19T10:58:29.352246",
     "exception": false,
     "start_time": "2024-03-19T10:58:29.276924",
     "status": "completed"
    },
    "tags": []
   },
   "outputs": [],
   "source": [
    "MRPS_leadingone_UX_average = np.array([values[0] for values in final_results_leadingone_UX_average.values()])\n",
    "MRPS_leadingone_UX_std = np.array([values[0] for values in final_results_leadingone_UX_std.values()])\n",
    "n_evaluations_leadingone_UX_average = np.array([values[1] for values in final_results_leadingone_UX_average.values()])\n",
    "n_evaluations_leadingone_UX_std = np.array([values[1] for values in final_results_leadingone_UX_std.values()])"
   ]
  },
  {
   "cell_type": "markdown",
   "id": "697eb561",
   "metadata": {
    "papermill": {
     "duration": 0.060088,
     "end_time": "2024-03-19T10:58:29.473878",
     "exception": false,
     "start_time": "2024-03-19T10:58:29.413790",
     "status": "completed"
    },
    "tags": []
   },
   "source": [
    "### Onepoint Crossover"
   ]
  },
  {
   "cell_type": "code",
   "execution_count": 30,
   "id": "85a9b2c2",
   "metadata": {
    "execution": {
     "iopub.execute_input": "2024-03-19T10:58:29.596563Z",
     "iopub.status.busy": "2024-03-19T10:58:29.596172Z",
     "iopub.status.idle": "2024-03-19T11:21:35.700259Z",
     "shell.execute_reply": "2024-03-19T11:21:35.699013Z"
    },
    "papermill": {
     "duration": 1386.242469,
     "end_time": "2024-03-19T11:21:35.777222",
     "exception": false,
     "start_time": "2024-03-19T10:58:29.534753",
     "status": "completed"
    },
    "tags": []
   },
   "outputs": [
    {
     "name": "stderr",
     "output_type": "stream",
     "text": [
      "Problem_size:   0%|          | 0/5 [00:00<?, ?it/s]\n",
      "bisection:   0%|          | 0/10 [00:00<?, ?it/s]\u001b[A\n",
      "bisection:  10%|█         | 1/10 [00:02<00:20,  2.29s/it]\u001b[A\n",
      "bisection:  20%|██        | 2/10 [00:03<00:11,  1.49s/it]\u001b[A\n",
      "bisection:  30%|███       | 3/10 [00:04<00:10,  1.53s/it]\u001b[A\n",
      "bisection:  40%|████      | 4/10 [00:05<00:07,  1.30s/it]\u001b[A\n",
      "bisection:  50%|█████     | 5/10 [00:08<00:08,  1.74s/it]\u001b[A\n",
      "bisection:  60%|██████    | 6/10 [00:09<00:05,  1.48s/it]\u001b[A\n",
      "bisection:  70%|███████   | 7/10 [00:10<00:04,  1.33s/it]\u001b[A\n",
      "bisection:  80%|████████  | 8/10 [00:11<00:02,  1.24s/it]\u001b[A\n",
      "bisection:  90%|█████████ | 9/10 [00:13<00:01,  1.44s/it]\u001b[A\n",
      "bisection: 100%|██████████| 10/10 [00:15<00:00,  1.51s/it]\n",
      "Problem_size:  20%|██        | 1/5 [00:15<01:00, 15.11s/it]\n",
      "bisection:   0%|          | 0/10 [00:00<?, ?it/s]\u001b[A\n",
      "bisection:  10%|█         | 1/10 [00:15<02:21, 15.72s/it]\u001b[A\n",
      "bisection:  20%|██        | 2/10 [00:38<02:36, 19.59s/it]\u001b[A\n",
      "bisection:  30%|███       | 3/10 [00:58<02:19, 19.94s/it]\u001b[A\n",
      "bisection:  40%|████      | 4/10 [01:17<01:56, 19.45s/it]\u001b[A\n",
      "bisection:  50%|█████     | 5/10 [01:40<01:44, 20.97s/it]\u001b[A\n",
      "bisection:  60%|██████    | 6/10 [01:54<01:14, 18.66s/it]\u001b[A\n",
      "bisection:  70%|███████   | 7/10 [02:07<00:50, 16.76s/it]\u001b[A\n",
      "bisection:  80%|████████  | 8/10 [02:23<00:32, 16.41s/it]\u001b[A\n",
      "bisection:  90%|█████████ | 9/10 [02:46<00:18, 18.36s/it]\u001b[A\n",
      "bisection: 100%|██████████| 10/10 [03:04<00:00, 18.50s/it]\n",
      "Problem_size:  40%|████      | 2/5 [03:20<05:45, 115.03s/it]\n",
      "bisection:   0%|          | 0/10 [00:00<?, ?it/s]\u001b[A\n",
      "bisection:  10%|█         | 1/10 [02:10<19:36, 130.71s/it]\u001b[A\n",
      "bisection:  20%|██        | 2/10 [04:07<16:21, 122.64s/it]\u001b[A\n",
      "bisection:  30%|███       | 3/10 [06:29<15:20, 131.49s/it]\u001b[A\n",
      "bisection:  40%|████      | 4/10 [08:02<11:37, 116.23s/it]\u001b[A\n",
      "bisection:  50%|█████     | 5/10 [09:29<08:47, 105.51s/it]\u001b[A\n",
      "bisection:  60%|██████    | 6/10 [11:38<07:34, 113.74s/it]\u001b[A\n",
      "bisection:  70%|███████   | 7/10 [12:23<04:33, 91.10s/it] \u001b[A\n",
      "bisection:  80%|████████  | 8/10 [14:31<03:26, 103.03s/it]\u001b[A\n",
      "bisection:  90%|█████████ | 9/10 [16:17<01:43, 104.00s/it]\u001b[A\n",
      "bisection: 100%|██████████| 10/10 [18:23<00:00, 110.33s/it]\n",
      "Problem_size:  60%|██████    | 3/5 [21:43<18:52, 566.28s/it]\n",
      "bisection:   0%|          | 0/10 [00:35<?, ?it/s]\n",
      "Problem_size:  80%|████████  | 4/5 [22:18<05:56, 356.65s/it]\n",
      "bisection:   0%|          | 0/10 [00:47<?, ?it/s]\n",
      "Problem_size: 100%|██████████| 5/5 [23:06<00:00, 277.22s/it]\n"
     ]
    },
    {
     "data": {
      "text/plain": [
       "{'problem_size 10': [(68.0, 1271.6),\n",
       "  (64, 1203.2),\n",
       "  (60.0, 990.0),\n",
       "  (56.0, 935.2),\n",
       "  (70.0, 1190.0),\n",
       "  (52.0, 899.6),\n",
       "  (56.0, 980.0),\n",
       "  (58.0, 986.0),\n",
       "  (72.0, 1216.8),\n",
       "  (74.0, 1191.4)],\n",
       " 'problem_size 20': [(208.0, 5720.0),\n",
       "  (274.0, 7343.2),\n",
       "  (250.0, 7200.0),\n",
       "  (258.0, 6914.4),\n",
       "  (266.0, 7394.8),\n",
       "  (226.0, 5559.6),\n",
       "  (178.0, 5304.4),\n",
       "  (230.0, 6509.0),\n",
       "  (262.0, 6969.2),\n",
       "  (228.0, 6680.4)],\n",
       " 'problem_size 40': [(806.0, 37640.2),\n",
       "  (766.0, 38453.2),\n",
       "  (900.0, 43110.0),\n",
       "  (640.0, 30912.0),\n",
       "  (736.0, 36432.0),\n",
       "  (778.0, 36254.8),\n",
       "  (512, 24422.4),\n",
       "  (860.0, 41710.0),\n",
       "  (768.0, 37017.6),\n",
       "  (792.0, 39520.8)],\n",
       " 'problem_size 80': [(None, None)],\n",
       " 'problem_size 160': [(None, None)]}"
      ]
     },
     "execution_count": 30,
     "metadata": {},
     "output_type": "execute_result"
    }
   ],
   "source": [
    "problem_size  = np.array([10, 20, 40, 80, 160])\n",
    "n_trials = 10\n",
    "\n",
    "final_results_leadingone_1X = {}\n",
    "for num_parameters in tqdm(problem_size, desc = \"Problem_size\"):\n",
    "    final_results_leadingone_1X[f\"problem_size {num_parameters}\"] = []\n",
    "    \n",
    "    for i in tqdm(range (n_trials),desc = \"bisection\"):\n",
    "        result = bisection(\n",
    "            objective = leadingone,\n",
    "            variance= onepoint_crossover,\n",
    "            num_parameters = num_parameters, \n",
    "            ith_bisection = i\n",
    "        )\n",
    "        \n",
    "        if result != (None,None):\n",
    "            final_results_leadingone_1X[f\"problem_size {num_parameters}\"].append(result)\n",
    "        else:\n",
    "            final_results_leadingone_1X[f\"problem_size {num_parameters}\"] = [(None,None)]\n",
    "            break\n",
    "        \n",
    "final_results_leadingone_1X"
   ]
  },
  {
   "cell_type": "markdown",
   "id": "aaf7f87d",
   "metadata": {},
   "source": [
    "* **Đây là kết quả chạy thực nghiệm 10 lần bisection** (Mỗi problem size là 10 lần bisection)\n",
    "* Kết quả: \n",
    "    * bên trái là MRPS \n",
    "    * bên phải là Average_number_of_evaluations của 1 bisection \n",
    "(Average_number_of_evaluations được tính bằng cách lấy mean của 10 lần chạy thành công trong một bisection)"
   ]
  },
  {
   "cell_type": "code",
   "execution_count": null,
   "id": "3b9a98ce",
   "metadata": {},
   "outputs": [],
   "source": []
  },
  {
   "cell_type": "code",
   "execution_count": 31,
   "id": "76c511d9",
   "metadata": {
    "execution": {
     "iopub.execute_input": "2024-03-19T11:21:35.930668Z",
     "iopub.status.busy": "2024-03-19T11:21:35.929917Z",
     "iopub.status.idle": "2024-03-19T11:21:35.941885Z",
     "shell.execute_reply": "2024-03-19T11:21:35.940810Z"
    },
    "papermill": {
     "duration": 0.092125,
     "end_time": "2024-03-19T11:21:35.944645",
     "exception": false,
     "start_time": "2024-03-19T11:21:35.852520",
     "status": "completed"
    },
    "tags": []
   },
   "outputs": [
    {
     "data": {
      "text/plain": [
       "({'problem_size 10': array([  63.  , 1086.38]),\n",
       "  'problem_size 20': array([ 238. , 6559.5]),\n",
       "  'problem_size 40': array([  755.8, 36547.3]),\n",
       "  'problem_size 80': array([None, None], dtype=object),\n",
       "  'problem_size 160': array([None, None], dtype=object)},\n",
       " {'problem_size 10': array([  7.28010989, 132.34544042]),\n",
       "  'problem_size 20': array([ 28.29840985, 728.90077926]),\n",
       "  'problem_size 40': array([ 104.62676522, 5123.2892616 ]),\n",
       "  'problem_size 80': array([None, None], dtype=object),\n",
       "  'problem_size 160': array([None, None], dtype=object)})"
      ]
     },
     "execution_count": 31,
     "metadata": {},
     "output_type": "execute_result"
    }
   ],
   "source": [
    "final_results_leadingone_1X_average = {}\n",
    "final_results_leadingone_1X_std = {}\n",
    "\n",
    "for i in problem_size:\n",
    "    if final_results_leadingone_1X[f'problem_size {i}'] == [(None,None)]:\n",
    "        final_results_leadingone_1X_average[f'problem_size {i}'] = np.array([None,None])\n",
    "        final_results_leadingone_1X_std[f'problem_size {i}'] = np.array([None,None])\n",
    "    \n",
    "    else:\n",
    "        final_results_leadingone_1X_average[f'problem_size {i}'] = np.average(final_results_leadingone_1X[f'problem_size {i}'], \n",
    "                                                                      axis = 0)\n",
    "        final_results_leadingone_1X_std[f'problem_size {i}'] = np.std(final_results_leadingone_1X[f'problem_size {i}'], \n",
    "                                                              axis = 0)\n",
    "\n",
    "final_results_leadingone_1X_average, final_results_leadingone_1X_std"
   ]
  },
  {
   "cell_type": "markdown",
   "id": "8faf2cd0",
   "metadata": {},
   "source": [
    "* **Phần bên trên là kết quả trung bình**: \n",
    "    * Ứng với problem size: \n",
    "        * Bên trái là giá trị MRPS trung bình của 10 lần bisection\n",
    "        * Bên phải là giá trị Average_number_of_evaluations trung bình của 10 lần bisection\n",
    "* **Phần dưới là độ lệch chuẩn**:\n",
    "    * Ứng với problem size: \n",
    "        * Bên trái là độ lệch chuẩn của MRPS của 10 lần bisection\n",
    "        * Bên phải là độ lệch chuẩn của Average_number_of_evaluations trung bình của 10 lần bisection"
   ]
  },
  {
   "cell_type": "code",
   "execution_count": null,
   "id": "c8f8d38a",
   "metadata": {},
   "outputs": [],
   "source": []
  },
  {
   "cell_type": "code",
   "execution_count": 32,
   "id": "ef5a7fc8",
   "metadata": {
    "execution": {
     "iopub.execute_input": "2024-03-19T11:21:36.102847Z",
     "iopub.status.busy": "2024-03-19T11:21:36.102422Z",
     "iopub.status.idle": "2024-03-19T11:21:36.109401Z",
     "shell.execute_reply": "2024-03-19T11:21:36.108264Z"
    },
    "papermill": {
     "duration": 0.089834,
     "end_time": "2024-03-19T11:21:36.112042",
     "exception": false,
     "start_time": "2024-03-19T11:21:36.022208",
     "status": "completed"
    },
    "tags": []
   },
   "outputs": [],
   "source": [
    "MRPS_leadingone_1X_average = np.array([values[0] for values in final_results_leadingone_1X_average.values()])\n",
    "MRPS_leadingone_1X_std = np.array([values[0] for values in final_results_leadingone_1X_std.values()])\n",
    "n_evaluations_leadingone_1X_average = np.array([values[1] for values in final_results_leadingone_1X_average.values()])\n",
    "n_evaluations_leadingone_1X_std = np.array([values[1] for values in final_results_leadingone_1X_std.values()])"
   ]
  },
  {
   "cell_type": "code",
   "execution_count": 33,
   "id": "036ec3d3",
   "metadata": {
    "execution": {
     "iopub.execute_input": "2024-03-19T11:21:36.269847Z",
     "iopub.status.busy": "2024-03-19T11:21:36.269417Z",
     "iopub.status.idle": "2024-03-19T11:21:37.235778Z",
     "shell.execute_reply": "2024-03-19T11:21:37.234092Z"
    },
    "papermill": {
     "duration": 1.048366,
     "end_time": "2024-03-19T11:21:37.238956",
     "exception": false,
     "start_time": "2024-03-19T11:21:36.190590",
     "status": "completed"
    },
    "tags": []
   },
   "outputs": [
    {
     "data": {
      "text/plain": [
       "<matplotlib.legend.Legend at 0x7b0d9d9eca90>"
      ]
     },
     "execution_count": 33,
     "metadata": {},
     "output_type": "execute_result"
    },
    {
     "data": {
      "image/png": "[encoded data removed]",
      "text/plain": [
       "<Figure size 640x480 with 1 Axes>"
      ]
     },
     "metadata": {},
     "output_type": "display_data"
    }
   ],
   "source": [
    "plt.figure()\n",
    "plt.plot(\n",
    "    problem_size[MRPS_leadingone_UX_average != None],\n",
    "    MRPS_leadingone_UX_average[MRPS_leadingone_UX_average != None].astype(float),\n",
    "    marker='o',\n",
    "    color= 'b',\n",
    "    label = \"GA(UX)\"\n",
    ")\n",
    "\n",
    "plt.fill_between(\n",
    "    problem_size[MRPS_leadingone_UX_average != None],\n",
    "    MRPS_leadingone_UX_average[MRPS_leadingone_UX_average != None].astype(float) + MRPS_leadingone_UX_std[MRPS_leadingone_UX_std != None].astype(float),\n",
    "    MRPS_leadingone_UX_average[MRPS_leadingone_UX_average != None].astype(float) - MRPS_leadingone_UX_std[MRPS_leadingone_UX_std != None].astype(float),\n",
    "    facecolor='b', \n",
    "    alpha=0.1\n",
    ")\n",
    "\n",
    "plt.plot(\n",
    "    problem_size[MRPS_leadingone_1X_average != None],\n",
    "    MRPS_leadingone_1X_average[MRPS_leadingone_1X_average != None].astype(float),\n",
    "    marker='o',\n",
    "    color= 'g',\n",
    "    label = \"GA(1X)\"\n",
    ")\n",
    "\n",
    "plt.fill_between(\n",
    "    problem_size[MRPS_leadingone_1X_average != None],\n",
    "    MRPS_leadingone_1X_average[MRPS_leadingone_1X_average != None].astype(float) + MRPS_leadingone_1X_std[MRPS_leadingone_1X_std != None].astype(float),\n",
    "    MRPS_leadingone_1X_average[MRPS_leadingone_1X_average != None].astype(float) - MRPS_leadingone_1X_std[MRPS_leadingone_1X_std != None].astype(float),\n",
    "    facecolor='g', \n",
    "    alpha=0.1\n",
    ")\n",
    "plt.title(\"Problem_size vs MRPS\")\n",
    "plt.xlabel('Problem size')\n",
    "plt.xlim(4, 180)\n",
    "plt.ylabel('MRPS')\n",
    "plt.xscale('log')\n",
    "plt.yscale('log')\n",
    "plt.legend()\n"
   ]
  },
  {
   "cell_type": "code",
   "execution_count": 34,
   "id": "e013c380",
   "metadata": {
    "execution": {
     "iopub.execute_input": "2024-03-19T11:21:37.391509Z",
     "iopub.status.busy": "2024-03-19T11:21:37.391028Z",
     "iopub.status.idle": "2024-03-19T11:21:38.209942Z",
     "shell.execute_reply": "2024-03-19T11:21:38.209008Z"
    },
    "papermill": {
     "duration": 0.898107,
     "end_time": "2024-03-19T11:21:38.213646",
     "exception": false,
     "start_time": "2024-03-19T11:21:37.315539",
     "status": "completed"
    },
    "tags": []
   },
   "outputs": [
    {
     "data": {
      "text/plain": [
       "<matplotlib.legend.Legend at 0x7b0d9d952230>"
      ]
     },
     "execution_count": 34,
     "metadata": {},
     "output_type": "execute_result"
    },
    {
     "data": {
      "image/png": "[encoded data removed]",
      "text/plain": [
       "<Figure size 640x480 with 1 Axes>"
      ]
     },
     "metadata": {},
     "output_type": "display_data"
    }
   ],
   "source": [
    "plt.figure()\n",
    "plt.plot(\n",
    "    problem_size[n_evaluations_leadingone_UX_average != None],\n",
    "    n_evaluations_leadingone_UX_average[n_evaluations_leadingone_UX_average != None].astype(float),\n",
    "    marker='o',\n",
    "    color= 'b',\n",
    "    label = \"GA(UX)\"\n",
    ")\n",
    "\n",
    "plt.fill_between(\n",
    "    problem_size[n_evaluations_leadingone_UX_average != None],\n",
    "    n_evaluations_leadingone_UX_average[n_evaluations_leadingone_UX_average != None].astype(float) + n_evaluations_leadingone_UX_std[n_evaluations_leadingone_UX_std != None].astype(float),\n",
    "    n_evaluations_leadingone_UX_average[n_evaluations_leadingone_UX_average != None].astype(float) - n_evaluations_leadingone_UX_std[n_evaluations_leadingone_UX_std != None].astype(float),\n",
    "    facecolor='b', \n",
    "    alpha=0.1\n",
    ")\n",
    "\n",
    "plt.plot(\n",
    "    problem_size[n_evaluations_leadingone_1X_average != None],\n",
    "    n_evaluations_leadingone_1X_average[n_evaluations_leadingone_1X_average != None].astype(float),\n",
    "    marker='o',\n",
    "    color= 'g',\n",
    "    label = \"GA(1X)\"\n",
    ")\n",
    "\n",
    "plt.fill_between(\n",
    "    problem_size[n_evaluations_leadingone_1X_average != None],\n",
    "    n_evaluations_leadingone_1X_average[n_evaluations_leadingone_1X_average != None].astype(float) + n_evaluations_leadingone_1X_std[n_evaluations_leadingone_1X_std != None].astype(float),\n",
    "    n_evaluations_leadingone_1X_average[n_evaluations_leadingone_1X_average != None].astype(float) - n_evaluations_leadingone_1X_std[n_evaluations_leadingone_1X_std != None].astype(float),\n",
    "    facecolor='g', \n",
    "    alpha=0.1\n",
    ")\n",
    "plt.title(\"Problem_size vs n_evaluations\")\n",
    "plt.xlabel('Problem size')\n",
    "plt.xlim(4, 180)\n",
    "plt.ylabel('n_evaluations')\n",
    "plt.xscale('log')\n",
    "plt.yscale('log')\n",
    "plt.legend()\n"
   ]
  },
  {
   "cell_type": "markdown",
   "id": "dda74d69",
   "metadata": {
    "papermill": {
     "duration": 0.096734,
     "end_time": "2024-03-19T11:21:38.396207",
     "exception": false,
     "start_time": "2024-03-19T11:21:38.299473",
     "status": "completed"
    },
    "tags": []
   },
   "source": [
    "## Concatenate-trap 5"
   ]
  },
  {
   "cell_type": "markdown",
   "id": "1f8a4011",
   "metadata": {
    "papermill": {
     "duration": 0.078379,
     "end_time": "2024-03-19T11:21:38.551672",
     "exception": false,
     "start_time": "2024-03-19T11:21:38.473293",
     "status": "completed"
    },
    "tags": []
   },
   "source": [
    "### Uniform Crossover"
   ]
  },
  {
   "cell_type": "code",
   "execution_count": 35,
   "id": "aba32595",
   "metadata": {
    "execution": {
     "iopub.execute_input": "2024-03-19T11:21:38.708113Z",
     "iopub.status.busy": "2024-03-19T11:21:38.707683Z",
     "iopub.status.idle": "2024-03-19T12:26:50.030005Z",
     "shell.execute_reply": "2024-03-19T12:26:50.028582Z"
    },
    "papermill": {
     "duration": 3911.481293,
     "end_time": "2024-03-19T12:26:50.110701",
     "exception": false,
     "start_time": "2024-03-19T11:21:38.629408",
     "status": "completed"
    },
    "tags": []
   },
   "outputs": [
    {
     "name": "stderr",
     "output_type": "stream",
     "text": [
      "Problem_size:   0%|          | 0/5 [00:00<?, ?it/s]\n",
      "bisection:   0%|          | 0/10 [00:00<?, ?it/s]\u001b[A\n",
      "bisection:  10%|█         | 1/10 [05:36<50:25, 336.22s/it]\u001b[A\n",
      "bisection:  20%|██        | 2/10 [12:01<48:41, 365.20s/it]\u001b[A\n",
      "bisection:  30%|███       | 3/10 [18:30<43:51, 375.87s/it]\u001b[A\n",
      "bisection:  40%|████      | 4/10 [24:04<35:56, 359.37s/it]\u001b[A\n",
      "bisection:  50%|█████     | 5/10 [32:17<33:57, 407.48s/it]\u001b[A\n",
      "bisection:  60%|██████    | 6/10 [37:37<25:11, 377.93s/it]\u001b[A\n",
      "bisection:  70%|███████   | 7/10 [43:49<18:47, 375.79s/it]\u001b[A\n",
      "bisection:  80%|████████  | 8/10 [48:08<11:17, 338.82s/it]\u001b[A\n",
      "bisection:  90%|█████████ | 9/10 [52:46<05:19, 319.57s/it]\u001b[A\n",
      "bisection: 100%|██████████| 10/10 [59:39<00:00, 357.97s/it]\n",
      "Problem_size:  20%|██        | 1/5 [59:39<3:58:38, 3579.66s/it]\n",
      "bisection:   0%|          | 0/10 [00:32<?, ?it/s]\n",
      "Problem_size:  40%|████      | 2/5 [1:00:12<1:14:39, 1493.20s/it]\n",
      "bisection:   0%|          | 0/10 [00:48<?, ?it/s]\n",
      "Problem_size:  60%|██████    | 3/5 [1:01:00<27:46, 833.41s/it]   \n",
      "bisection:   0%|          | 0/10 [01:29<?, ?it/s]\n",
      "Problem_size:  80%|████████  | 4/5 [1:02:29<08:59, 539.68s/it]\n",
      "bisection:   0%|          | 0/10 [02:41<?, ?it/s]\n",
      "Problem_size: 100%|██████████| 5/5 [1:05:11<00:00, 782.26s/it]\n"
     ]
    },
    {
     "data": {
      "text/plain": [
       "{'problem_size 10': [(906.0, 100566.0),\n",
       "  (582.0, 93061.8),\n",
       "  (834.0, 100080.0),\n",
       "  (970.0, 100880.0),\n",
       "  (1282.0, 101278.0),\n",
       "  (734.0, 100558.0),\n",
       "  (710.0, 100110.0),\n",
       "  (502.0, 83783.8),\n",
       "  (454.0, 79994.8),\n",
       "  (706.0, 98275.2)],\n",
       " 'problem_size 20': [(None, None)],\n",
       " 'problem_size 40': [(None, None)],\n",
       " 'problem_size 80': [(None, None)],\n",
       " 'problem_size 160': [(None, None)]}"
      ]
     },
     "execution_count": 35,
     "metadata": {},
     "output_type": "execute_result"
    }
   ],
   "source": [
    "problem_size  = np.array([10, 20, 40, 80, 160])\n",
    "n_trials = 10\n",
    "\n",
    "final_results_ctrap5_UX = {}\n",
    "for num_parameters in tqdm(problem_size, desc = \"Problem_size\"):\n",
    "    final_results_ctrap5_UX[f\"problem_size {num_parameters}\"] = []\n",
    "    \n",
    "    for i in tqdm(range (n_trials),desc = \"bisection\"):\n",
    "        result = bisection(\n",
    "            objective = concatenate_trap_5,\n",
    "            variance= uniform_crossover,\n",
    "            num_parameters = num_parameters, \n",
    "            ith_bisection = i\n",
    "        )\n",
    "        \n",
    "        if result != (None,None):\n",
    "            final_results_ctrap5_UX[f\"problem_size {num_parameters}\"].append(result)\n",
    "        else:\n",
    "            final_results_ctrap5_UX[f\"problem_size {num_parameters}\"] = [(None,None)]\n",
    "            break\n",
    "        \n",
    "final_results_ctrap5_UX"
   ]
  },
  {
   "cell_type": "markdown",
   "id": "245cf598",
   "metadata": {},
   "source": [
    "* **Đây là kết quả chạy thực nghiệm 10 lần bisection** (Mỗi problem size là 10 lần bisection)\n",
    "* Kết quả: \n",
    "    * bên trái là MRPS \n",
    "    * bên phải là Average_number_of_evaluations của 1 bisection \n",
    "(Average_number_of_evaluations được tính bằng cách lấy mean của 10 lần chạy thành công trong một bisection)"
   ]
  },
  {
   "cell_type": "code",
   "execution_count": null,
   "id": "5be2cc7c",
   "metadata": {},
   "outputs": [],
   "source": []
  },
  {
   "cell_type": "code",
   "execution_count": 36,
   "id": "b007e12e",
   "metadata": {
    "execution": {
     "iopub.execute_input": "2024-03-19T12:26:50.275168Z",
     "iopub.status.busy": "2024-03-19T12:26:50.274310Z",
     "iopub.status.idle": "2024-03-19T12:26:50.286936Z",
     "shell.execute_reply": "2024-03-19T12:26:50.285768Z"
    },
    "papermill": {
     "duration": 0.097203,
     "end_time": "2024-03-19T12:26:50.289612",
     "exception": false,
     "start_time": "2024-03-19T12:26:50.192409",
     "status": "completed"
    },
    "tags": []
   },
   "outputs": [
    {
     "data": {
      "text/plain": [
       "({'problem_size 10': array([  768.  , 95858.76]),\n",
       "  'problem_size 20': array([None, None], dtype=object),\n",
       "  'problem_size 40': array([None, None], dtype=object),\n",
       "  'problem_size 80': array([None, None], dtype=object),\n",
       "  'problem_size 160': array([None, None], dtype=object)},\n",
       " {'problem_size 10': array([ 232.53214832, 7388.13873979]),\n",
       "  'problem_size 20': array([None, None], dtype=object),\n",
       "  'problem_size 40': array([None, None], dtype=object),\n",
       "  'problem_size 80': array([None, None], dtype=object),\n",
       "  'problem_size 160': array([None, None], dtype=object)})"
      ]
     },
     "execution_count": 36,
     "metadata": {},
     "output_type": "execute_result"
    }
   ],
   "source": [
    "final_results_ctrap5_UX_average = {}\n",
    "final_results_ctrap5_UX_std = {}\n",
    "\n",
    "for i in problem_size:\n",
    "    if final_results_ctrap5_UX[f'problem_size {i}'] == [(None,None)]:\n",
    "        final_results_ctrap5_UX_average[f'problem_size {i}'] = np.array([None,None])\n",
    "        final_results_ctrap5_UX_std[f'problem_size {i}'] = np.array([None,None])\n",
    "    \n",
    "    else:\n",
    "        final_results_ctrap5_UX_average[f'problem_size {i}'] = np.average(final_results_ctrap5_UX[f'problem_size {i}'], \n",
    "                                                                      axis = 0)\n",
    "        final_results_ctrap5_UX_std[f'problem_size {i}'] = np.std(final_results_ctrap5_UX[f'problem_size {i}'], \n",
    "                                                              axis = 0)\n",
    "\n",
    "final_results_ctrap5_UX_average, final_results_ctrap5_UX_std"
   ]
  },
  {
   "cell_type": "markdown",
   "id": "50303f3f",
   "metadata": {},
   "source": [
    "* **Phần bên trên là kết quả trung bình**: \n",
    "    * Ứng với problem size: \n",
    "        * Bên trái là giá trị MRPS trung bình của 10 lần bisection\n",
    "        * Bên phải là giá trị Average_number_of_evaluations trung bình của 10 lần bisection\n",
    "* **Phần dưới là độ lệch chuẩn**:\n",
    "    * Ứng với problem size: \n",
    "        * Bên trái là độ lệch chuẩn của MRPS của 10 lần bisection\n",
    "        * Bên phải là độ lệch chuẩn của Average_number_of_evaluations trung bình của 10 lần bisection"
   ]
  },
  {
   "cell_type": "code",
   "execution_count": null,
   "id": "77c5409d",
   "metadata": {},
   "outputs": [],
   "source": []
  },
  {
   "cell_type": "code",
   "execution_count": 37,
   "id": "999934fb",
   "metadata": {
    "execution": {
     "iopub.execute_input": "2024-03-19T12:26:50.452933Z",
     "iopub.status.busy": "2024-03-19T12:26:50.452036Z",
     "iopub.status.idle": "2024-03-19T12:26:50.459782Z",
     "shell.execute_reply": "2024-03-19T12:26:50.458419Z"
    },
    "papermill": {
     "duration": 0.09255,
     "end_time": "2024-03-19T12:26:50.462665",
     "exception": false,
     "start_time": "2024-03-19T12:26:50.370115",
     "status": "completed"
    },
    "tags": []
   },
   "outputs": [],
   "source": [
    "MRPS_ctrap5_UX_average = np.array([values[0] for values in final_results_ctrap5_UX_average.values()])\n",
    "MRPS_ctrap5_UX_std = np.array([values[0] for values in final_results_ctrap5_UX_std.values()])\n",
    "n_evaluations_ctrap5_UX_average = np.array([values[1] for values in final_results_ctrap5_UX_average.values()])\n",
    "n_evaluations_ctrap5_UX_std = np.array([values[1] for values in final_results_ctrap5_UX_std.values()])"
   ]
  },
  {
   "cell_type": "markdown",
   "id": "7004e658",
   "metadata": {
    "papermill": {
     "duration": 0.199678,
     "end_time": "2024-03-19T12:26:50.744750",
     "exception": false,
     "start_time": "2024-03-19T12:26:50.545072",
     "status": "completed"
    },
    "tags": []
   },
   "source": [
    "### Onepoint Crossover"
   ]
  },
  {
   "cell_type": "code",
   "execution_count": 38,
   "id": "96e59b99",
   "metadata": {
    "execution": {
     "iopub.execute_input": "2024-03-19T12:26:50.912045Z",
     "iopub.status.busy": "2024-03-19T12:26:50.911154Z",
     "iopub.status.idle": "2024-03-19T13:35:36.871200Z",
     "shell.execute_reply": "2024-03-19T13:35:36.868950Z"
    },
    "papermill": {
     "duration": 4126.140212,
     "end_time": "2024-03-19T13:35:36.966589",
     "exception": false,
     "start_time": "2024-03-19T12:26:50.826377",
     "status": "completed"
    },
    "tags": []
   },
   "outputs": [
    {
     "name": "stderr",
     "output_type": "stream",
     "text": [
      "Problem_size:   0%|          | 0/5 [00:00<?, ?it/s]\n",
      "bisection:   0%|          | 0/10 [00:00<?, ?it/s]\u001b[A\n",
      "bisection:  10%|█         | 1/10 [00:35<05:20, 35.61s/it]\u001b[A\n",
      "bisection:  20%|██        | 2/10 [00:50<03:07, 23.49s/it]\u001b[A\n",
      "bisection:  30%|███       | 3/10 [01:04<02:13, 19.00s/it]\u001b[A\n",
      "bisection:  40%|████      | 4/10 [01:13<01:30, 15.09s/it]\u001b[A\n",
      "bisection:  50%|█████     | 5/10 [01:57<02:07, 25.59s/it]\u001b[A\n",
      "bisection:  60%|██████    | 6/10 [02:08<01:21, 20.44s/it]\u001b[A\n",
      "bisection:  70%|███████   | 7/10 [02:21<00:54, 18.30s/it]\u001b[A\n",
      "bisection:  80%|████████  | 8/10 [02:33<00:32, 16.13s/it]\u001b[A\n",
      "bisection:  90%|█████████ | 9/10 [02:38<00:12, 12.75s/it]\u001b[A\n",
      "bisection: 100%|██████████| 10/10 [02:48<00:00, 16.87s/it]\n",
      "Problem_size:  20%|██        | 1/5 [02:48<11:14, 168.72s/it]\n",
      "bisection:   0%|          | 0/10 [00:00<?, ?it/s]\u001b[A\n",
      "bisection:  10%|█         | 1/10 [00:47<07:09, 47.76s/it]\u001b[A\n",
      "bisection:  20%|██        | 2/10 [01:21<05:14, 39.32s/it]\u001b[A\n",
      "bisection:  30%|███       | 3/10 [02:05<04:52, 41.81s/it]\u001b[A\n",
      "bisection:  40%|████      | 4/10 [02:34<03:39, 36.59s/it]\u001b[A\n",
      "bisection:  50%|█████     | 5/10 [03:07<02:55, 35.20s/it]\u001b[A\n",
      "bisection:  60%|██████    | 6/10 [04:44<03:44, 56.17s/it]\u001b[A\n",
      "bisection:  70%|███████   | 7/10 [06:21<03:28, 69.61s/it]\u001b[A\n",
      "bisection:  80%|████████  | 8/10 [07:10<02:06, 63.04s/it]\u001b[A\n",
      "bisection:  90%|█████████ | 9/10 [07:22<00:47, 47.01s/it]\u001b[A\n",
      "bisection: 100%|██████████| 10/10 [09:04<00:00, 54.43s/it]\n",
      "Problem_size:  40%|████      | 2/5 [11:53<19:29, 389.67s/it]\n",
      "bisection:   0%|          | 0/10 [00:00<?, ?it/s]\u001b[A\n",
      "bisection:  10%|█         | 1/10 [07:05<1:03:46, 425.19s/it]\u001b[A\n",
      "bisection:  20%|██        | 2/10 [10:31<39:29, 296.22s/it]  \u001b[A\n",
      "bisection:  30%|███       | 3/10 [12:56<26:32, 227.44s/it]\u001b[A\n",
      "bisection:  40%|████      | 4/10 [15:23<19:34, 195.74s/it]\u001b[A\n",
      "bisection:  50%|█████     | 5/10 [22:02<22:23, 268.77s/it]\u001b[A\n",
      "bisection:  60%|██████    | 6/10 [24:39<15:23, 230.77s/it]\u001b[A\n",
      "bisection:  70%|███████   | 7/10 [28:13<11:16, 225.53s/it]\u001b[A\n",
      "bisection:  80%|████████  | 8/10 [31:46<07:22, 221.43s/it]\u001b[A\n",
      "bisection:  90%|█████████ | 9/10 [35:13<03:36, 216.75s/it]\u001b[A\n",
      "bisection: 100%|██████████| 10/10 [38:15<00:00, 229.56s/it]\n",
      "Problem_size:  60%|██████    | 3/5 [50:08<41:59, 1259.98s/it]\n",
      "bisection:   0%|          | 0/10 [00:00<?, ?it/s]\u001b[A\n",
      "bisection:  10%|█         | 1/10 [16:33<2:29:03, 993.73s/it]\n",
      "Problem_size:  80%|████████  | 4/5 [1:06:42<19:14, 1154.87s/it]\n",
      "bisection:   0%|          | 0/10 [02:03<?, ?it/s]\n",
      "Problem_size: 100%|██████████| 5/5 [1:08:45<00:00, 825.19s/it]\n"
     ]
    },
    {
     "data": {
      "text/plain": [
       "{'problem_size 10': [(258.0, 6321.0),\n",
       "  (180.0, 4590.0),\n",
       "  (136.0, 6487.2),\n",
       "  (160.0, 4016.0),\n",
       "  (258.0, 10732.8),\n",
       "  (120.0, 2676.0),\n",
       "  (140.0, 3836.0),\n",
       "  (176.0, 7198.4),\n",
       "  (96.0, 2822.4),\n",
       "  (118.0, 2914.6)],\n",
       " 'problem_size 20': [(326.0, 9030.2),\n",
       "  (302.0, 8516.4),\n",
       "  (288.0, 7056.0),\n",
       "  (368.0, 10156.8),\n",
       "  (320.0, 8608.0),\n",
       "  (514.0, 13929.4),\n",
       "  (514.0, 14649.0),\n",
       "  (402.0, 10492.2),\n",
       "  (240.0, 6096.0),\n",
       "  (514.0, 16036.8)],\n",
       " 'problem_size 40': [(1026.0, 34781.4),\n",
       "  (870.0, 29580.0),\n",
       "  (764.0, 25441.2),\n",
       "  (734.0, 24222.0),\n",
       "  (1028.0, 34849.2),\n",
       "  (954.0, 31195.8),\n",
       "  (806.0, 27887.6),\n",
       "  (938.0, 32079.6),\n",
       "  (844.0, 29455.6),\n",
       "  (878.0, 29413.0)],\n",
       " 'problem_size 80': [(None, None)],\n",
       " 'problem_size 160': [(None, None)]}"
      ]
     },
     "execution_count": 38,
     "metadata": {},
     "output_type": "execute_result"
    }
   ],
   "source": [
    "problem_size  = np.array([10, 20, 40, 80, 160])\n",
    "n_trials = 10\n",
    "\n",
    "final_results_ctrap5_1X = {}\n",
    "for num_parameters in tqdm(problem_size, desc = \"Problem_size\"):\n",
    "    final_results_ctrap5_1X[f\"problem_size {num_parameters}\"] = []\n",
    "    \n",
    "    for i in tqdm(range (n_trials),desc = \"bisection\"):\n",
    "        result = bisection(\n",
    "            objective = concatenate_trap_5,\n",
    "            variance= onepoint_crossover,\n",
    "            num_parameters = num_parameters, \n",
    "            ith_bisection = i\n",
    "        )\n",
    "        \n",
    "        if result != (None,None):\n",
    "            final_results_ctrap5_1X[f\"problem_size {num_parameters}\"].append(result)\n",
    "        else:\n",
    "            final_results_ctrap5_1X[f\"problem_size {num_parameters}\"] = [(None,None)]\n",
    "            break\n",
    "        \n",
    "final_results_ctrap5_1X"
   ]
  },
  {
   "cell_type": "markdown",
   "id": "9b1b9fe3",
   "metadata": {},
   "source": [
    "* **Đây là kết quả chạy thực nghiệm 10 lần bisection** (Mỗi problem size là 10 lần bisection)\n",
    "* Kết quả: \n",
    "    * bên trái là MRPS \n",
    "    * bên phải là Average_number_of_evaluations của 1 bisection \n",
    "(Average_number_of_evaluations được tính bằng cách lấy mean của 10 lần chạy thành công trong một bisection)"
   ]
  },
  {
   "cell_type": "code",
   "execution_count": null,
   "id": "30081d40",
   "metadata": {},
   "outputs": [],
   "source": []
  },
  {
   "cell_type": "code",
   "execution_count": 39,
   "id": "7f89512d",
   "metadata": {
    "execution": {
     "iopub.execute_input": "2024-03-19T13:35:37.177474Z",
     "iopub.status.busy": "2024-03-19T13:35:37.176527Z",
     "iopub.status.idle": "2024-03-19T13:35:37.194114Z",
     "shell.execute_reply": "2024-03-19T13:35:37.191987Z"
    },
    "papermill": {
     "duration": 0.124837,
     "end_time": "2024-03-19T13:35:37.197119",
     "exception": false,
     "start_time": "2024-03-19T13:35:37.072282",
     "status": "completed"
    },
    "tags": []
   },
   "outputs": [
    {
     "data": {
      "text/plain": [
       "({'problem_size 10': array([ 164.2 , 5159.44]),\n",
       "  'problem_size 20': array([  378.8 , 10457.08]),\n",
       "  'problem_size 40': array([  884.2 , 29890.54]),\n",
       "  'problem_size 80': array([None, None], dtype=object),\n",
       "  'problem_size 160': array([None, None], dtype=object)},\n",
       " {'problem_size 10': array([  53.03168864, 2416.27016337]),\n",
       "  'problem_size 20': array([  97.54260608, 3172.72063718]),\n",
       "  'problem_size 40': array([  96.71173662, 3338.54610638]),\n",
       "  'problem_size 80': array([None, None], dtype=object),\n",
       "  'problem_size 160': array([None, None], dtype=object)})"
      ]
     },
     "execution_count": 39,
     "metadata": {},
     "output_type": "execute_result"
    }
   ],
   "source": [
    "final_results_ctrap5_1X_average = {}\n",
    "final_results_ctrap5_1X_std = {}\n",
    "\n",
    "for i in problem_size:\n",
    "    if final_results_ctrap5_1X[f'problem_size {i}'] == [(None,None)]:\n",
    "        final_results_ctrap5_1X_average[f'problem_size {i}'] = np.array([None,None])\n",
    "        final_results_ctrap5_1X_std[f'problem_size {i}'] = np.array([None,None])\n",
    "    \n",
    "    else:\n",
    "        final_results_ctrap5_1X_average[f'problem_size {i}'] = np.average(final_results_ctrap5_1X[f'problem_size {i}'], \n",
    "                                                                      axis = 0)\n",
    "        final_results_ctrap5_1X_std[f'problem_size {i}'] = np.std(final_results_ctrap5_1X[f'problem_size {i}'], \n",
    "                                                              axis = 0)\n",
    "\n",
    "final_results_ctrap5_1X_average, final_results_ctrap5_1X_std"
   ]
  },
  {
   "cell_type": "markdown",
   "id": "68350660",
   "metadata": {},
   "source": [
    "* **Phần bên trên là kết quả trung bình**: \n",
    "    * Ứng với problem size: \n",
    "        * Bên trái là giá trị MRPS trung bình của 10 lần bisection\n",
    "        * Bên phải là giá trị Average_number_of_evaluations trung bình của 10 lần bisection\n",
    "* **Phần dưới là độ lệch chuẩn**:\n",
    "    * Ứng với problem size: \n",
    "        * Bên trái là độ lệch chuẩn của MRPS của 10 lần bisection\n",
    "        * Bên phải là độ lệch chuẩn của Average_number_of_evaluations trung bình của 10 lần bisection"
   ]
  },
  {
   "cell_type": "code",
   "execution_count": null,
   "id": "3a14b887",
   "metadata": {},
   "outputs": [],
   "source": []
  },
  {
   "cell_type": "code",
   "execution_count": 40,
   "id": "03675213",
   "metadata": {
    "execution": {
     "iopub.execute_input": "2024-03-19T13:35:37.405328Z",
     "iopub.status.busy": "2024-03-19T13:35:37.404780Z",
     "iopub.status.idle": "2024-03-19T13:35:37.414867Z",
     "shell.execute_reply": "2024-03-19T13:35:37.411956Z"
    },
    "papermill": {
     "duration": 0.120524,
     "end_time": "2024-03-19T13:35:37.420491",
     "exception": false,
     "start_time": "2024-03-19T13:35:37.299967",
     "status": "completed"
    },
    "tags": []
   },
   "outputs": [],
   "source": [
    "MRPS_ctrap5_1X_average = np.array([values[0] for values in final_results_ctrap5_1X_average.values()])\n",
    "MRPS_ctrap5_1X_std = np.array([values[0] for values in final_results_ctrap5_1X_std.values()])\n",
    "n_evaluations_ctrap5_1X_average = np.array([values[1] for values in final_results_ctrap5_1X_average.values()])\n",
    "n_evaluations_ctrap5_1X_std = np.array([values[1] for values in final_results_ctrap5_1X_std.values()])"
   ]
  },
  {
   "cell_type": "code",
   "execution_count": 41,
   "id": "48a09282",
   "metadata": {
    "execution": {
     "iopub.execute_input": "2024-03-19T13:35:37.634131Z",
     "iopub.status.busy": "2024-03-19T13:35:37.633625Z",
     "iopub.status.idle": "2024-03-19T13:35:38.725127Z",
     "shell.execute_reply": "2024-03-19T13:35:38.723471Z"
    },
    "papermill": {
     "duration": 1.207608,
     "end_time": "2024-03-19T13:35:38.728209",
     "exception": false,
     "start_time": "2024-03-19T13:35:37.520601",
     "status": "completed"
    },
    "tags": []
   },
   "outputs": [
    {
     "data": {
      "text/plain": [
       "<matplotlib.legend.Legend at 0x7b0d9d783880>"
      ]
     },
     "execution_count": 41,
     "metadata": {},
     "output_type": "execute_result"
    },
    {
     "data": {
      "image/png": "[encoded data removed]",
      "text/plain": [
       "<Figure size 640x480 with 1 Axes>"
      ]
     },
     "metadata": {},
     "output_type": "display_data"
    }
   ],
   "source": [
    "plt.figure()\n",
    "plt.plot(\n",
    "    problem_size[MRPS_ctrap5_UX_average != None],\n",
    "    MRPS_ctrap5_UX_average[MRPS_ctrap5_UX_average != None].astype(float),\n",
    "    marker='o',\n",
    "    color= 'b',\n",
    "    label = \"GA(UX)\"\n",
    ")\n",
    "\n",
    "plt.fill_between(\n",
    "    problem_size[MRPS_ctrap5_UX_average != None],\n",
    "    MRPS_ctrap5_UX_average[MRPS_ctrap5_UX_average != None].astype(float) + MRPS_ctrap5_UX_std[MRPS_ctrap5_UX_std != None].astype(float),\n",
    "    MRPS_ctrap5_UX_average[MRPS_ctrap5_UX_average != None].astype(float) - MRPS_ctrap5_UX_std[MRPS_ctrap5_UX_std != None].astype(float),\n",
    "    facecolor='b', \n",
    "    alpha=0.1\n",
    ")\n",
    "\n",
    "plt.plot(\n",
    "    problem_size[MRPS_ctrap5_1X_average != None],\n",
    "    MRPS_ctrap5_1X_average[MRPS_ctrap5_1X_average != None].astype(float),\n",
    "    marker='o',\n",
    "    color= 'g',\n",
    "    label = \"GA(1X)\"\n",
    ")\n",
    "\n",
    "plt.fill_between(\n",
    "    problem_size[MRPS_ctrap5_1X_average != None],\n",
    "    MRPS_ctrap5_1X_average[MRPS_ctrap5_1X_average != None].astype(float) + MRPS_ctrap5_1X_std[MRPS_ctrap5_1X_std != None].astype(float),\n",
    "    MRPS_ctrap5_1X_average[MRPS_ctrap5_1X_average != None].astype(float) - MRPS_ctrap5_1X_std[MRPS_ctrap5_1X_std != None].astype(float),\n",
    "    facecolor='g', \n",
    "    alpha=0.1\n",
    ")\n",
    "plt.title(\"Problem_size vs MRPS\")\n",
    "plt.xlabel('Problem size')\n",
    "plt.xlim(4, 180)\n",
    "plt.ylabel('MRPS')\n",
    "plt.xscale('log')\n",
    "plt.yscale('log')\n",
    "plt.legend()"
   ]
  },
  {
   "cell_type": "code",
   "execution_count": 42,
   "id": "e7d3d087",
   "metadata": {
    "execution": {
     "iopub.execute_input": "2024-03-19T13:35:38.938871Z",
     "iopub.status.busy": "2024-03-19T13:35:38.938447Z",
     "iopub.status.idle": "2024-03-19T13:35:39.920930Z",
     "shell.execute_reply": "2024-03-19T13:35:39.919959Z"
    },
    "papermill": {
     "duration": 1.095047,
     "end_time": "2024-03-19T13:35:39.924140",
     "exception": false,
     "start_time": "2024-03-19T13:35:38.829093",
     "status": "completed"
    },
    "tags": []
   },
   "outputs": [
    {
     "data": {
      "text/plain": [
       "<matplotlib.legend.Legend at 0x7b0d9d4f8310>"
      ]
     },
     "execution_count": 42,
     "metadata": {},
     "output_type": "execute_result"
    },
    {
     "data": {
      "image/png": "[encoded data removed]",
      "text/plain": [
       "<Figure size 640x480 with 1 Axes>"
      ]
     },
     "metadata": {},
     "output_type": "display_data"
    }
   ],
   "source": [
    "plt.figure()\n",
    "plt.plot(\n",
    "    problem_size[n_evaluations_ctrap5_UX_average != None],\n",
    "    n_evaluations_ctrap5_UX_average[n_evaluations_ctrap5_UX_average != None].astype(float),\n",
    "    marker='o',\n",
    "    color= 'b',\n",
    "    label = \"GA(UX)\"\n",
    ")\n",
    "\n",
    "plt.fill_between(\n",
    "    problem_size[n_evaluations_ctrap5_UX_average != None],\n",
    "    n_evaluations_ctrap5_UX_average[n_evaluations_ctrap5_UX_average != None].astype(float) + n_evaluations_ctrap5_UX_std[n_evaluations_ctrap5_UX_std != None].astype(float),\n",
    "    n_evaluations_ctrap5_UX_average[n_evaluations_ctrap5_UX_average != None].astype(float) - n_evaluations_ctrap5_UX_std[n_evaluations_ctrap5_UX_std != None].astype(float),\n",
    "    facecolor='b', \n",
    "    alpha=0.1\n",
    ")\n",
    "\n",
    "plt.plot(\n",
    "    problem_size[n_evaluations_ctrap5_1X_average != None],\n",
    "    n_evaluations_ctrap5_1X_average[n_evaluations_ctrap5_1X_average != None].astype(float),\n",
    "    marker='o',\n",
    "    color= 'g',\n",
    "    label = \"GA(1X)\"\n",
    ")\n",
    "\n",
    "plt.fill_between(\n",
    "    problem_size[n_evaluations_ctrap5_1X_average != None],\n",
    "    n_evaluations_ctrap5_1X_average[n_evaluations_ctrap5_1X_average != None].astype(float) + n_evaluations_ctrap5_1X_std[n_evaluations_ctrap5_1X_std != None].astype(float),\n",
    "    n_evaluations_ctrap5_1X_average[n_evaluations_ctrap5_1X_average != None].astype(float) - n_evaluations_ctrap5_1X_std[n_evaluations_ctrap5_1X_std != None].astype(float),\n",
    "    facecolor='g', \n",
    "    alpha=0.1\n",
    ")\n",
    "plt.title(\"Problem_size vs n_evaluations\")\n",
    "plt.xlabel('Problem size')\n",
    "plt.xlim(4, 180)\n",
    "plt.ylabel('n_evaluations')\n",
    "plt.xscale('log')\n",
    "plt.yscale('log')\n",
    "plt.legend()"
   ]
  },
  {
   "cell_type": "code",
   "execution_count": null,
   "id": "b7f65fc4",
   "metadata": {
    "papermill": {
     "duration": 0.098533,
     "end_time": "2024-03-19T13:35:40.229299",
     "exception": false,
     "start_time": "2024-03-19T13:35:40.130766",
     "status": "completed"
    },
    "tags": []
   },
   "outputs": [],
   "source": []
  }
 ],
 "metadata": {
  "kaggle": {
   "accelerator": "none",
   "dataSources": [],
   "dockerImageVersionId": 30665,
   "isGpuEnabled": false,
   "isInternetEnabled": true,
   "language": "python",
   "sourceType": "notebook"
  },
  "kernelspec": {
   "display_name": "Python 3",
   "language": "python",
   "name": "python3"
  },
  "language_info": {
   "codemirror_mode": {
    "name": "ipython",
    "version": 3
   },
   "file_extension": ".py",
   "mimetype": "text/x-python",
   "name": "python",
   "nbconvert_exporter": "python",
   "pygments_lexer": "ipython3",
   "version": "3.10.13"
  },
  "papermill": {
   "default_parameters": {},
   "duration": 11781.578723,
   "end_time": "2024-03-19T13:35:41.388150",
   "environment_variables": {},
   "exception": null,
   "input_path": "__notebook__.ipynb",
   "output_path": "__notebook__.ipynb",
   "parameters": {},
   "start_time": "2024-03-19T10:19:19.809427",
   "version": "2.5.0"
  }
 },
 "nbformat": 4,
 "nbformat_minor": 5
}
